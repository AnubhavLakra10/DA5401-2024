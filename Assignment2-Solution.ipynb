{
 "cells": [
  {
   "cell_type": "code",
   "execution_count": 1,
   "id": "dbf1beaf",
   "metadata": {
    "ExecuteTime": {
     "end_time": "2024-08-14T04:54:45.987872Z",
     "start_time": "2024-08-14T04:54:45.395029Z"
    }
   },
   "outputs": [],
   "source": [
    "import matplotlib.pyplot as plt\n",
    "import numpy as np\n",
    "import pandas as pd\n",
    "from math import log\n",
    "from sklearn import linear_model\n",
    "\n",
    "#comment below if not using ipython notebook\n",
    "%matplotlib inline"
   ]
  },
  {
   "cell_type": "code",
   "execution_count": 74,
   "id": "0044b637",
   "metadata": {},
   "outputs": [],
   "source": [
    "#!pip -q install visualkeras\n",
    "import visualkeras"
   ]
  },
  {
   "cell_type": "markdown",
   "id": "b99450c7",
   "metadata": {},
   "source": [
    "### let's load the data into a dataframe\n"
   ]
  },
  {
   "cell_type": "code",
   "execution_count": 2,
   "id": "cc9e1d8f",
   "metadata": {
    "ExecuteTime": {
     "end_time": "2024-08-14T04:54:45.996601Z",
     "start_time": "2024-08-14T04:54:45.988969Z"
    }
   },
   "outputs": [
    {
     "data": {
      "text/html": [
       "<div>\n",
       "<style scoped>\n",
       "    .dataframe tbody tr th:only-of-type {\n",
       "        vertical-align: middle;\n",
       "    }\n",
       "\n",
       "    .dataframe tbody tr th {\n",
       "        vertical-align: top;\n",
       "    }\n",
       "\n",
       "    .dataframe thead th {\n",
       "        text-align: right;\n",
       "    }\n",
       "</style>\n",
       "<table border=\"1\" class=\"dataframe\">\n",
       "  <thead>\n",
       "    <tr style=\"text-align: right;\">\n",
       "      <th></th>\n",
       "      <th>SpringPos</th>\n",
       "      <th>StockPrice</th>\n",
       "    </tr>\n",
       "  </thead>\n",
       "  <tbody>\n",
       "    <tr>\n",
       "      <th>0</th>\n",
       "      <td>2.27</td>\n",
       "      <td>3.48</td>\n",
       "    </tr>\n",
       "    <tr>\n",
       "      <th>1</th>\n",
       "      <td>6.38</td>\n",
       "      <td>2.99</td>\n",
       "    </tr>\n",
       "    <tr>\n",
       "      <th>2</th>\n",
       "      <td>8.61</td>\n",
       "      <td>5.86</td>\n",
       "    </tr>\n",
       "    <tr>\n",
       "      <th>3</th>\n",
       "      <td>8.65</td>\n",
       "      <td>1.79</td>\n",
       "    </tr>\n",
       "    <tr>\n",
       "      <th>4</th>\n",
       "      <td>13.17</td>\n",
       "      <td>3.47</td>\n",
       "    </tr>\n",
       "  </tbody>\n",
       "</table>\n",
       "</div>"
      ],
      "text/plain": [
       "   SpringPos  StockPrice\n",
       "0       2.27        3.48\n",
       "1       6.38        2.99\n",
       "2       8.61        5.86\n",
       "3       8.65        1.79\n",
       "4      13.17        3.47"
      ]
     },
     "execution_count": 2,
     "metadata": {},
     "output_type": "execute_result"
    }
   ],
   "source": [
    "data  = pd.read_csv('Assignment2.data', sep='\\t')\n",
    "data.head()"
   ]
  },
  {
   "cell_type": "code",
   "execution_count": 3,
   "id": "22789744",
   "metadata": {
    "ExecuteTime": {
     "end_time": "2024-08-14T04:54:46.004707Z",
     "start_time": "2024-08-14T04:54:45.997502Z"
    }
   },
   "outputs": [
    {
     "data": {
      "text/html": [
       "<div>\n",
       "<style scoped>\n",
       "    .dataframe tbody tr th:only-of-type {\n",
       "        vertical-align: middle;\n",
       "    }\n",
       "\n",
       "    .dataframe tbody tr th {\n",
       "        vertical-align: top;\n",
       "    }\n",
       "\n",
       "    .dataframe thead th {\n",
       "        text-align: right;\n",
       "    }\n",
       "</style>\n",
       "<table border=\"1\" class=\"dataframe\">\n",
       "  <thead>\n",
       "    <tr style=\"text-align: right;\">\n",
       "      <th></th>\n",
       "      <th>SpringPos</th>\n",
       "      <th>StockPrice</th>\n",
       "    </tr>\n",
       "  </thead>\n",
       "  <tbody>\n",
       "    <tr>\n",
       "      <th>count</th>\n",
       "      <td>226.000000</td>\n",
       "      <td>226.000000</td>\n",
       "    </tr>\n",
       "    <tr>\n",
       "      <th>mean</th>\n",
       "      <td>3.785221</td>\n",
       "      <td>14.187743</td>\n",
       "    </tr>\n",
       "    <tr>\n",
       "      <th>std</th>\n",
       "      <td>10.704778</td>\n",
       "      <td>7.447450</td>\n",
       "    </tr>\n",
       "    <tr>\n",
       "      <th>min</th>\n",
       "      <td>-19.910000</td>\n",
       "      <td>0.670000</td>\n",
       "    </tr>\n",
       "    <tr>\n",
       "      <th>25%</th>\n",
       "      <td>-3.960000</td>\n",
       "      <td>8.355000</td>\n",
       "    </tr>\n",
       "    <tr>\n",
       "      <th>50%</th>\n",
       "      <td>4.195000</td>\n",
       "      <td>13.970000</td>\n",
       "    </tr>\n",
       "    <tr>\n",
       "      <th>75%</th>\n",
       "      <td>11.295000</td>\n",
       "      <td>19.632500</td>\n",
       "    </tr>\n",
       "    <tr>\n",
       "      <th>max</th>\n",
       "      <td>26.100000</td>\n",
       "      <td>30.050000</td>\n",
       "    </tr>\n",
       "  </tbody>\n",
       "</table>\n",
       "</div>"
      ],
      "text/plain": [
       "        SpringPos  StockPrice\n",
       "count  226.000000  226.000000\n",
       "mean     3.785221   14.187743\n",
       "std     10.704778    7.447450\n",
       "min    -19.910000    0.670000\n",
       "25%     -3.960000    8.355000\n",
       "50%      4.195000   13.970000\n",
       "75%     11.295000   19.632500\n",
       "max     26.100000   30.050000"
      ]
     },
     "execution_count": 3,
     "metadata": {},
     "output_type": "execute_result"
    }
   ],
   "source": [
    "data.describe()"
   ]
  },
  {
   "cell_type": "code",
   "execution_count": 4,
   "id": "92317d09",
   "metadata": {
    "ExecuteTime": {
     "end_time": "2024-08-14T04:54:46.122576Z",
     "start_time": "2024-08-14T04:54:46.006156Z"
    }
   },
   "outputs": [
    {
     "data": {
      "image/png": "[encoded data removed]",
      "text/plain": [
       "<Figure size 720x360 with 2 Axes>"
      ]
     },
     "metadata": {
      "needs_background": "light"
     },
     "output_type": "display_data"
    }
   ],
   "source": [
    "fig, (ax1, ax2) = plt.subplots(2, 1)\n",
    "fig.suptitle('Two Cyber Physical Systems')\n",
    "fig.set_figwidth(10)\n",
    "fig.set_figheight(5)\n",
    "\n",
    "ax1.plot(data.SpringPos, 'r+')\n",
    "ax1.set_ylabel('Spring Position')\n",
    "ax2.plot(data.StockPrice, 'b.')\n",
    "ax2.set_ylabel('Stock Price')\n",
    "ax2.set_xlabel('time')\n",
    "\n",
    "plt.show()"
   ]
  },
  {
   "cell_type": "markdown",
   "id": "65916f1b",
   "metadata": {},
   "source": [
    "## Fit a linear model on the dataset"
   ]
  },
  {
   "cell_type": "code",
   "execution_count": 5,
   "id": "20c682e6",
   "metadata": {
    "ExecuteTime": {
     "end_time": "2024-08-14T04:54:46.128170Z",
     "start_time": "2024-08-14T04:54:46.123516Z"
    }
   },
   "outputs": [
    {
     "data": {
      "text/html": [
       "<div>\n",
       "<style scoped>\n",
       "    .dataframe tbody tr th:only-of-type {\n",
       "        vertical-align: middle;\n",
       "    }\n",
       "\n",
       "    .dataframe tbody tr th {\n",
       "        vertical-align: top;\n",
       "    }\n",
       "\n",
       "    .dataframe thead th {\n",
       "        text-align: right;\n",
       "    }\n",
       "</style>\n",
       "<table border=\"1\" class=\"dataframe\">\n",
       "  <thead>\n",
       "    <tr style=\"text-align: right;\">\n",
       "      <th></th>\n",
       "      <th>x</th>\n",
       "      <th>y</th>\n",
       "    </tr>\n",
       "  </thead>\n",
       "  <tbody>\n",
       "    <tr>\n",
       "      <th>0</th>\n",
       "      <td>0</td>\n",
       "      <td>3.48</td>\n",
       "    </tr>\n",
       "    <tr>\n",
       "      <th>1</th>\n",
       "      <td>1</td>\n",
       "      <td>2.99</td>\n",
       "    </tr>\n",
       "    <tr>\n",
       "      <th>2</th>\n",
       "      <td>2</td>\n",
       "      <td>5.86</td>\n",
       "    </tr>\n",
       "    <tr>\n",
       "      <th>3</th>\n",
       "      <td>3</td>\n",
       "      <td>1.79</td>\n",
       "    </tr>\n",
       "    <tr>\n",
       "      <th>4</th>\n",
       "      <td>4</td>\n",
       "      <td>3.47</td>\n",
       "    </tr>\n",
       "  </tbody>\n",
       "</table>\n",
       "</div>"
      ],
      "text/plain": [
       "   x     y\n",
       "0  0  3.48\n",
       "1  1  2.99\n",
       "2  2  5.86\n",
       "3  3  1.79\n",
       "4  4  3.47"
      ]
     },
     "execution_count": 5,
     "metadata": {},
     "output_type": "execute_result"
    }
   ],
   "source": [
    "y2 = pd.DataFrame({\"x\":range(226), \"y\":data.StockPrice})\n",
    "y2.head()"
   ]
  },
  {
   "cell_type": "markdown",
   "id": "d25da79a",
   "metadata": {},
   "source": [
    "### transform the data into matrices"
   ]
  },
  {
   "cell_type": "code",
   "execution_count": 6,
   "id": "d572138e",
   "metadata": {
    "ExecuteTime": {
     "end_time": "2024-08-14T04:54:46.131308Z",
     "start_time": "2024-08-14T04:54:46.129040Z"
    }
   },
   "outputs": [],
   "source": [
    "yy = np.array(y2.y) \n",
    "xx = np.expand_dims(y2.x, 1)"
   ]
  },
  {
   "cell_type": "code",
   "execution_count": null,
   "id": "2eab9352",
   "metadata": {
    "ExecuteTime": {
     "end_time": "2024-08-11T07:18:05.170375Z",
     "start_time": "2024-08-11T07:18:05.166742Z"
    }
   },
   "outputs": [],
   "source": []
  },
  {
   "cell_type": "markdown",
   "id": "2d7e7002",
   "metadata": {},
   "source": [
    "### run the closed form solution to estimate the beta parameter."
   ]
  },
  {
   "cell_type": "code",
   "execution_count": 7,
   "id": "dc28b420",
   "metadata": {
    "ExecuteTime": {
     "end_time": "2024-08-14T04:54:46.136781Z",
     "start_time": "2024-08-14T04:54:46.132644Z"
    }
   },
   "outputs": [
    {
     "name": "stdout",
     "output_type": "stream",
     "text": [
      "Beta =  0.11899412514961837\n",
      "SSE =  3850.335433080234\n"
     ]
    }
   ],
   "source": [
    "numerator = np.matmul(np.transpose(xx), yy)\n",
    "denom = np.matmul(np.transpose(xx), xx)\n",
    "denom_inv = np.linalg.inv(denom)\n",
    "beta = np.matmul(denom_inv, numerator)\n",
    "print(\"Beta = \", beta[0])\n",
    "sse = np.sum((xx*beta[0] - np.expand_dims(yy,1))**2)\n",
    "print(\"SSE = \", sse)"
   ]
  },
  {
   "cell_type": "markdown",
   "id": "cc5f1384",
   "metadata": {},
   "source": [
    "### as we will be reusing the above procedure often, let's make it a function"
   ]
  },
  {
   "cell_type": "code",
   "execution_count": 8,
   "id": "bffc56b4",
   "metadata": {
    "ExecuteTime": {
     "end_time": "2024-08-14T04:54:46.142307Z",
     "start_time": "2024-08-14T04:54:46.138123Z"
    }
   },
   "outputs": [],
   "source": [
    "# estimate the value of the beta vector assuming that X is made of independent features.\n",
    "def estimateBeta(X, y):\n",
    "    numerator = np.matmul(np.transpose(X), y)\n",
    "    denom = np.matmul(np.transpose(X), X)\n",
    "    denom_inv = np.linalg.inv(denom)\n",
    "    beta = np.matmul(denom_inv, numerator)\n",
    "    return beta\n",
    "\n",
    "# create a helper that would estimate yhat from X and beta.\n",
    "def predict(beta, X):\n",
    "    # reshape the input to a matrix, if it is appearing like an 1d array.\n",
    "    if len(X.shape) != 2:\n",
    "        X = np.expand_dims(X,1)\n",
    "    # convert the beta list in to an array.\n",
    "    beta = np.array(beta)\n",
    "    # perform estimation of yhat.\n",
    "    return np.matmul(X, beta)\n",
    "\n",
    "# compute the sum of squared error between y and yhat.\n",
    "def SSE(y, yhat):\n",
    "    return np.sum((y-yhat)**2)"
   ]
  },
  {
   "cell_type": "markdown",
   "id": "41259468",
   "metadata": {},
   "source": [
    "### Let's plot the raw data and the regression line on the same plot"
   ]
  },
  {
   "cell_type": "code",
   "execution_count": 9,
   "id": "947af1d2",
   "metadata": {
    "ExecuteTime": {
     "end_time": "2024-08-14T04:54:46.211057Z",
     "start_time": "2024-08-14T04:54:46.143595Z"
    }
   },
   "outputs": [
    {
     "data": {
      "text/plain": [
       "Text(0.5, 0, 'Time')"
      ]
     },
     "execution_count": 9,
     "metadata": {},
     "output_type": "execute_result"
    },
    {
     "data": {
      "image/png": "[encoded data removed]",
      "text/plain": [
       "<Figure size 432x288 with 1 Axes>"
      ]
     },
     "metadata": {
      "needs_background": "light"
     },
     "output_type": "display_data"
    }
   ],
   "source": [
    "plt.plot(y2.x, y2.y, 'r+')\n",
    "yhat1 = predict(beta, y2.x)\n",
    "plt.plot(y2.x, yhat1, 'b-')  # yhat = y2.x*beta[0]\n",
    "plt.ylabel('Stock Price')\n",
    "plt.xlabel('Time')"
   ]
  },
  {
   "cell_type": "markdown",
   "id": "05802b46",
   "metadata": {
    "ExecuteTime": {
     "end_time": "2024-08-11T07:11:43.870023Z",
     "start_time": "2024-08-11T07:11:43.802765Z"
    }
   },
   "source": [
    "### let's add an intercept (bias) to the data and check if the SSE drops further."
   ]
  },
  {
   "cell_type": "code",
   "execution_count": 10,
   "id": "47f9bdf3",
   "metadata": {
    "ExecuteTime": {
     "end_time": "2024-08-14T04:54:46.219864Z",
     "start_time": "2024-08-14T04:54:46.213288Z"
    }
   },
   "outputs": [
    {
     "data": {
      "text/html": [
       "<div>\n",
       "<style scoped>\n",
       "    .dataframe tbody tr th:only-of-type {\n",
       "        vertical-align: middle;\n",
       "    }\n",
       "\n",
       "    .dataframe tbody tr th {\n",
       "        vertical-align: top;\n",
       "    }\n",
       "\n",
       "    .dataframe thead th {\n",
       "        text-align: right;\n",
       "    }\n",
       "</style>\n",
       "<table border=\"1\" class=\"dataframe\">\n",
       "  <thead>\n",
       "    <tr style=\"text-align: right;\">\n",
       "      <th></th>\n",
       "      <th>bias</th>\n",
       "      <th>x</th>\n",
       "      <th>y</th>\n",
       "    </tr>\n",
       "  </thead>\n",
       "  <tbody>\n",
       "    <tr>\n",
       "      <th>0</th>\n",
       "      <td>1.0</td>\n",
       "      <td>0</td>\n",
       "      <td>3.48</td>\n",
       "    </tr>\n",
       "    <tr>\n",
       "      <th>1</th>\n",
       "      <td>1.0</td>\n",
       "      <td>1</td>\n",
       "      <td>2.99</td>\n",
       "    </tr>\n",
       "    <tr>\n",
       "      <th>2</th>\n",
       "      <td>1.0</td>\n",
       "      <td>2</td>\n",
       "      <td>5.86</td>\n",
       "    </tr>\n",
       "    <tr>\n",
       "      <th>3</th>\n",
       "      <td>1.0</td>\n",
       "      <td>3</td>\n",
       "      <td>1.79</td>\n",
       "    </tr>\n",
       "    <tr>\n",
       "      <th>4</th>\n",
       "      <td>1.0</td>\n",
       "      <td>4</td>\n",
       "      <td>3.47</td>\n",
       "    </tr>\n",
       "  </tbody>\n",
       "</table>\n",
       "</div>"
      ],
      "text/plain": [
       "   bias  x     y\n",
       "0   1.0  0  3.48\n",
       "1   1.0  1  2.99\n",
       "2   1.0  2  5.86\n",
       "3   1.0  3  1.79\n",
       "4   1.0  4  3.47"
      ]
     },
     "execution_count": 10,
     "metadata": {},
     "output_type": "execute_result"
    }
   ],
   "source": [
    "y2df = pd.DataFrame({\"bias\":np.ones(226), \"x\":range(226), \"y\":data.StockPrice})\n",
    "yy = np.array(y2df.y) \n",
    "xx = np.array(y2df[[\"bias\",\"x\"]])\n",
    "y2df.head()"
   ]
  },
  {
   "cell_type": "markdown",
   "id": "96455449",
   "metadata": {
    "ExecuteTime": {
     "end_time": "2024-08-11T07:15:37.075016Z",
     "start_time": "2024-08-11T07:15:37.071114Z"
    }
   },
   "source": [
    "### estimate the beta params and compute the loss again"
   ]
  },
  {
   "cell_type": "code",
   "execution_count": 11,
   "id": "610ce88f",
   "metadata": {
    "ExecuteTime": {
     "end_time": "2024-08-14T04:54:46.223856Z",
     "start_time": "2024-08-14T04:54:46.220777Z"
    }
   },
   "outputs": [
    {
     "name": "stdout",
     "output_type": "stream",
     "text": [
      "beta = [3.18244786 0.09782485]\n",
      "SSE = 3274.298469663405\n"
     ]
    }
   ],
   "source": [
    "beta2 = estimateBeta(xx, yy)\n",
    "print(\"beta =\", beta2)\n",
    "yhat2 = predict(beta2, xx)\n",
    "loss = SSE(yy, yhat2)\n",
    "print(\"SSE =\", loss)"
   ]
  },
  {
   "cell_type": "markdown",
   "id": "99cc6baf",
   "metadata": {},
   "source": [
    "### interesting! the loss has dropped with a little bit on intercept.  Let's plot it side by side."
   ]
  },
  {
   "cell_type": "code",
   "execution_count": 12,
   "id": "b099494f",
   "metadata": {
    "ExecuteTime": {
     "end_time": "2024-08-14T04:54:46.295797Z",
     "start_time": "2024-08-14T04:54:46.224715Z"
    }
   },
   "outputs": [
    {
     "data": {
      "text/plain": [
       "Text(0.5, 0, 'Time')"
      ]
     },
     "execution_count": 12,
     "metadata": {},
     "output_type": "execute_result"
    },
    {
     "data": {
      "image/png": "[encoded data removed]",
      "text/plain": [
       "<Figure size 432x288 with 1 Axes>"
      ]
     },
     "metadata": {
      "needs_background": "light"
     },
     "output_type": "display_data"
    }
   ],
   "source": [
    "plt.plot(y2df.x, y2df.y, 'r+')\n",
    "plt.plot(y2df.x, yhat1, 'b-')\n",
    "plt.plot(y2df.x, yhat2, 'g-')\n",
    "plt.ylabel('Stock Price')\n",
    "plt.xlabel('Time')"
   ]
  },
  {
   "cell_type": "markdown",
   "id": "4b9c4f7b",
   "metadata": {},
   "source": [
    "### Let's model the periodicity\n",
    "\n",
    "Let's borrow the slope information from the fit to set up the scale of the time axis.\n",
    "\n",
    "Instead of using $x$ in integer scale, we shall use the floating point scale as $x_1 \\leftarrow \\beta_0 * x$\n",
    "\n",
    "Likewise, let's create a new data dimension to capture the periodicity as $x_2 \\leftarrow sin(x_1)$\n",
    "\n",
    "Based on the expanded feature space, now let's try to model $\\hat{y} = m_1 x_1 + m_2 x_2$, note that we don't have to use the intercept $c$ as our previous linear model passed through the origin.\n"
   ]
  },
  {
   "cell_type": "markdown",
   "id": "855035a7",
   "metadata": {},
   "source": [
    "### create a feature space appropriately"
   ]
  },
  {
   "cell_type": "code",
   "execution_count": 13,
   "id": "f3e8f78d",
   "metadata": {
    "ExecuteTime": {
     "end_time": "2024-08-14T04:54:46.304582Z",
     "start_time": "2024-08-14T04:54:46.296782Z"
    }
   },
   "outputs": [
    {
     "data": {
      "text/html": [
       "<div>\n",
       "<style scoped>\n",
       "    .dataframe tbody tr th:only-of-type {\n",
       "        vertical-align: middle;\n",
       "    }\n",
       "\n",
       "    .dataframe tbody tr th {\n",
       "        vertical-align: top;\n",
       "    }\n",
       "\n",
       "    .dataframe thead th {\n",
       "        text-align: right;\n",
       "    }\n",
       "</style>\n",
       "<table border=\"1\" class=\"dataframe\">\n",
       "  <thead>\n",
       "    <tr style=\"text-align: right;\">\n",
       "      <th></th>\n",
       "      <th>bias</th>\n",
       "      <th>x</th>\n",
       "      <th>x1</th>\n",
       "      <th>x2</th>\n",
       "      <th>y</th>\n",
       "    </tr>\n",
       "  </thead>\n",
       "  <tbody>\n",
       "    <tr>\n",
       "      <th>0</th>\n",
       "      <td>1.0</td>\n",
       "      <td>0</td>\n",
       "      <td>0.00</td>\n",
       "      <td>0.000000</td>\n",
       "      <td>3.48</td>\n",
       "    </tr>\n",
       "    <tr>\n",
       "      <th>1</th>\n",
       "      <td>1.0</td>\n",
       "      <td>1</td>\n",
       "      <td>0.10</td>\n",
       "      <td>0.099833</td>\n",
       "      <td>2.99</td>\n",
       "    </tr>\n",
       "    <tr>\n",
       "      <th>2</th>\n",
       "      <td>1.0</td>\n",
       "      <td>2</td>\n",
       "      <td>0.20</td>\n",
       "      <td>0.198669</td>\n",
       "      <td>5.86</td>\n",
       "    </tr>\n",
       "    <tr>\n",
       "      <th>3</th>\n",
       "      <td>1.0</td>\n",
       "      <td>3</td>\n",
       "      <td>0.29</td>\n",
       "      <td>0.285952</td>\n",
       "      <td>1.79</td>\n",
       "    </tr>\n",
       "    <tr>\n",
       "      <th>4</th>\n",
       "      <td>1.0</td>\n",
       "      <td>4</td>\n",
       "      <td>0.39</td>\n",
       "      <td>0.380188</td>\n",
       "      <td>3.47</td>\n",
       "    </tr>\n",
       "    <tr>\n",
       "      <th>5</th>\n",
       "      <td>1.0</td>\n",
       "      <td>5</td>\n",
       "      <td>0.49</td>\n",
       "      <td>0.470626</td>\n",
       "      <td>7.73</td>\n",
       "    </tr>\n",
       "    <tr>\n",
       "      <th>6</th>\n",
       "      <td>1.0</td>\n",
       "      <td>6</td>\n",
       "      <td>0.59</td>\n",
       "      <td>0.556361</td>\n",
       "      <td>7.83</td>\n",
       "    </tr>\n",
       "    <tr>\n",
       "      <th>7</th>\n",
       "      <td>1.0</td>\n",
       "      <td>7</td>\n",
       "      <td>0.68</td>\n",
       "      <td>0.628793</td>\n",
       "      <td>4.70</td>\n",
       "    </tr>\n",
       "    <tr>\n",
       "      <th>8</th>\n",
       "      <td>1.0</td>\n",
       "      <td>8</td>\n",
       "      <td>0.78</td>\n",
       "      <td>0.703279</td>\n",
       "      <td>8.97</td>\n",
       "    </tr>\n",
       "    <tr>\n",
       "      <th>9</th>\n",
       "      <td>1.0</td>\n",
       "      <td>9</td>\n",
       "      <td>0.88</td>\n",
       "      <td>0.770739</td>\n",
       "      <td>8.43</td>\n",
       "    </tr>\n",
       "  </tbody>\n",
       "</table>\n",
       "</div>"
      ],
      "text/plain": [
       "   bias  x    x1        x2     y\n",
       "0   1.0  0  0.00  0.000000  3.48\n",
       "1   1.0  1  0.10  0.099833  2.99\n",
       "2   1.0  2  0.20  0.198669  5.86\n",
       "3   1.0  3  0.29  0.285952  1.79\n",
       "4   1.0  4  0.39  0.380188  3.47\n",
       "5   1.0  5  0.49  0.470626  7.73\n",
       "6   1.0  6  0.59  0.556361  7.83\n",
       "7   1.0  7  0.68  0.628793  4.70\n",
       "8   1.0  8  0.78  0.703279  8.97\n",
       "9   1.0  9  0.88  0.770739  8.43"
      ]
     },
     "execution_count": 13,
     "metadata": {},
     "output_type": "execute_result"
    }
   ],
   "source": [
    "x1 = round(y2.x*beta2[1],2)\n",
    "x2 = np.sin(x1)\n",
    "\n",
    "y21 = pd.DataFrame({\"bias\":np.ones(226),\"x\":range(226), \"x1\":x1, \"x2\":x2, \"y\":data.StockPrice})\n",
    "y21.head(10)"
   ]
  },
  {
   "cell_type": "markdown",
   "id": "7911b727",
   "metadata": {},
   "source": [
    "### create the data matrices from the data frame"
   ]
  },
  {
   "cell_type": "code",
   "execution_count": 14,
   "id": "08d91394",
   "metadata": {
    "ExecuteTime": {
     "end_time": "2024-08-14T04:54:46.308157Z",
     "start_time": "2024-08-14T04:54:46.305502Z"
    }
   },
   "outputs": [],
   "source": [
    "xx = np.array(y21[['bias', 'x1', 'x2']])\n",
    "yy = np.array(y2.y) "
   ]
  },
  {
   "cell_type": "code",
   "execution_count": 15,
   "id": "c13aaf90",
   "metadata": {
    "ExecuteTime": {
     "end_time": "2024-08-14T04:54:46.312046Z",
     "start_time": "2024-08-14T04:54:46.309008Z"
    }
   },
   "outputs": [
    {
     "name": "stdout",
     "output_type": "stream",
     "text": [
      "Beta =  [2.74436632 1.00020159 4.82388129]\n",
      "SSE =  701.3625743495965\n"
     ]
    }
   ],
   "source": [
    "beta3 = estimateBeta(xx, yy)\n",
    "print(\"Beta = \", beta3)\n",
    "yhat3 = predict(beta3, xx)\n",
    "loss = SSE(yy, yhat3) #np.sum((np.matmul(xx,beta) - yy)**2)\n",
    "print(\"SSE = \", loss)"
   ]
  },
  {
   "cell_type": "markdown",
   "id": "af7985f1",
   "metadata": {},
   "source": [
    "### Let's plot the raw data and the regression line on the same plot"
   ]
  },
  {
   "cell_type": "code",
   "execution_count": 16,
   "id": "7b0d778b",
   "metadata": {
    "ExecuteTime": {
     "end_time": "2024-08-14T04:54:46.393041Z",
     "start_time": "2024-08-14T04:54:46.312897Z"
    }
   },
   "outputs": [
    {
     "data": {
      "text/plain": [
       "Text(0.5, 0, 'Time')"
      ]
     },
     "execution_count": 16,
     "metadata": {},
     "output_type": "execute_result"
    },
    {
     "data": {
      "image/png": "[encoded data removed]",
      "text/plain": [
       "<Figure size 432x288 with 1 Axes>"
      ]
     },
     "metadata": {
      "needs_background": "light"
     },
     "output_type": "display_data"
    }
   ],
   "source": [
    "plt.plot(y2.x, y2.y, 'r+')\n",
    "plt.plot(y2.x, yhat3, 'b-')\n",
    "plt.ylabel('Stock Price')\n",
    "plt.xlabel('Time')"
   ]
  },
  {
   "cell_type": "markdown",
   "id": "fb6d5e93",
   "metadata": {},
   "source": [
    "### we were able to see the sin(x) from the visual.  what if we can't visualize? let's try the polynomial fit."
   ]
  },
  {
   "cell_type": "code",
   "execution_count": 17,
   "id": "fc818359",
   "metadata": {
    "ExecuteTime": {
     "end_time": "2024-08-14T04:54:46.402985Z",
     "start_time": "2024-08-14T04:54:46.394180Z"
    }
   },
   "outputs": [
    {
     "data": {
      "text/html": [
       "<div>\n",
       "<style scoped>\n",
       "    .dataframe tbody tr th:only-of-type {\n",
       "        vertical-align: middle;\n",
       "    }\n",
       "\n",
       "    .dataframe tbody tr th {\n",
       "        vertical-align: top;\n",
       "    }\n",
       "\n",
       "    .dataframe thead th {\n",
       "        text-align: right;\n",
       "    }\n",
       "</style>\n",
       "<table border=\"1\" class=\"dataframe\">\n",
       "  <thead>\n",
       "    <tr style=\"text-align: right;\">\n",
       "      <th></th>\n",
       "      <th>bias</th>\n",
       "      <th>x</th>\n",
       "      <th>x1</th>\n",
       "      <th>y</th>\n",
       "    </tr>\n",
       "  </thead>\n",
       "  <tbody>\n",
       "    <tr>\n",
       "      <th>0</th>\n",
       "      <td>1.0</td>\n",
       "      <td>0</td>\n",
       "      <td>0.00</td>\n",
       "      <td>3.48</td>\n",
       "    </tr>\n",
       "    <tr>\n",
       "      <th>1</th>\n",
       "      <td>1.0</td>\n",
       "      <td>1</td>\n",
       "      <td>0.10</td>\n",
       "      <td>2.99</td>\n",
       "    </tr>\n",
       "    <tr>\n",
       "      <th>2</th>\n",
       "      <td>1.0</td>\n",
       "      <td>2</td>\n",
       "      <td>0.20</td>\n",
       "      <td>5.86</td>\n",
       "    </tr>\n",
       "    <tr>\n",
       "      <th>3</th>\n",
       "      <td>1.0</td>\n",
       "      <td>3</td>\n",
       "      <td>0.29</td>\n",
       "      <td>1.79</td>\n",
       "    </tr>\n",
       "    <tr>\n",
       "      <th>4</th>\n",
       "      <td>1.0</td>\n",
       "      <td>4</td>\n",
       "      <td>0.39</td>\n",
       "      <td>3.47</td>\n",
       "    </tr>\n",
       "    <tr>\n",
       "      <th>5</th>\n",
       "      <td>1.0</td>\n",
       "      <td>5</td>\n",
       "      <td>0.49</td>\n",
       "      <td>7.73</td>\n",
       "    </tr>\n",
       "    <tr>\n",
       "      <th>6</th>\n",
       "      <td>1.0</td>\n",
       "      <td>6</td>\n",
       "      <td>0.59</td>\n",
       "      <td>7.83</td>\n",
       "    </tr>\n",
       "    <tr>\n",
       "      <th>7</th>\n",
       "      <td>1.0</td>\n",
       "      <td>7</td>\n",
       "      <td>0.68</td>\n",
       "      <td>4.70</td>\n",
       "    </tr>\n",
       "    <tr>\n",
       "      <th>8</th>\n",
       "      <td>1.0</td>\n",
       "      <td>8</td>\n",
       "      <td>0.78</td>\n",
       "      <td>8.97</td>\n",
       "    </tr>\n",
       "    <tr>\n",
       "      <th>9</th>\n",
       "      <td>1.0</td>\n",
       "      <td>9</td>\n",
       "      <td>0.88</td>\n",
       "      <td>8.43</td>\n",
       "    </tr>\n",
       "  </tbody>\n",
       "</table>\n",
       "</div>"
      ],
      "text/plain": [
       "   bias  x    x1     y\n",
       "0   1.0  0  0.00  3.48\n",
       "1   1.0  1  0.10  2.99\n",
       "2   1.0  2  0.20  5.86\n",
       "3   1.0  3  0.29  1.79\n",
       "4   1.0  4  0.39  3.47\n",
       "5   1.0  5  0.49  7.73\n",
       "6   1.0  6  0.59  7.83\n",
       "7   1.0  7  0.68  4.70\n",
       "8   1.0  8  0.78  8.97\n",
       "9   1.0  9  0.88  8.43"
      ]
     },
     "execution_count": 17,
     "metadata": {},
     "output_type": "execute_result"
    }
   ],
   "source": [
    "x1 = round(y2.x*beta2[1],2)\n",
    "\n",
    "y21 = pd.DataFrame({\"bias\":np.ones(226),\"x\":range(226), \"x1\":x1, \"y\":data.StockPrice})\n",
    "y21.head(10)"
   ]
  },
  {
   "cell_type": "markdown",
   "id": "432f4b65",
   "metadata": {},
   "source": [
    "### create the data matrices from the data frame"
   ]
  },
  {
   "cell_type": "code",
   "execution_count": 18,
   "id": "78bc2f8a",
   "metadata": {
    "ExecuteTime": {
     "end_time": "2024-08-14T04:54:46.407496Z",
     "start_time": "2024-08-14T04:54:46.404278Z"
    }
   },
   "outputs": [],
   "source": [
    "# here we don't need the explicit bias feature column, as polynomial features would include it already (x^0 = 1)\n",
    "xx = np.array(y21[['x1']])\n",
    "yy = np.array(y2.y) "
   ]
  },
  {
   "cell_type": "markdown",
   "id": "fdadd8b3",
   "metadata": {},
   "source": [
    "### let's use the polynomial features generator instead of manually doing it."
   ]
  },
  {
   "cell_type": "code",
   "execution_count": 19,
   "id": "a2285c12",
   "metadata": {
    "ExecuteTime": {
     "end_time": "2024-08-14T04:54:46.412579Z",
     "start_time": "2024-08-14T04:54:46.408799Z"
    }
   },
   "outputs": [],
   "source": [
    "from sklearn.preprocessing import PolynomialFeatures\n",
    "poly_transformer = PolynomialFeatures(degree = 50)   # 10, 11\n",
    "X_poly = poly_transformer.fit_transform(xx)"
   ]
  },
  {
   "cell_type": "markdown",
   "id": "dc0eabdc",
   "metadata": {
    "ExecuteTime": {
     "end_time": "2024-08-11T10:00:53.281808Z",
     "start_time": "2024-08-11T10:00:53.277419Z"
    }
   },
   "source": [
    "### fit the model and estimate the loss"
   ]
  },
  {
   "cell_type": "code",
   "execution_count": 20,
   "id": "cdbcd9fe",
   "metadata": {
    "ExecuteTime": {
     "end_time": "2024-08-14T04:54:46.431272Z",
     "start_time": "2024-08-14T04:54:46.414158Z"
    }
   },
   "outputs": [
    {
     "name": "stdout",
     "output_type": "stream",
     "text": [
      "Intercept= 11.474642529013542 Beta =  [-1.06171580e-055  2.25050010e-054  3.34040933e-057  5.75402230e-061\n",
      "  5.59427495e-063  1.10232970e-065  2.15637650e-101  1.29766935e-095\n",
      "  2.05624764e-094  3.29371967e-093  5.31953270e-092  8.64523316e-091\n",
      "  1.41161019e-089  2.31275017e-088  3.79791848e-087  6.24530511e-086\n",
      "  1.02750517e-084  1.69004297e-083  2.77699720e-082  4.55521601e-081\n",
      "  7.45408777e-080  1.21597940e-078  1.97601623e-077  3.19639258e-076\n",
      "  5.14266303e-075  8.22244660e-074  1.30524466e-072  2.05499525e-071\n",
      "  3.20519668e-070  4.94600052e-069  7.53975538e-068  1.13346574e-066\n",
      "  1.67695361e-065  2.43579832e-064  3.46336716e-063  4.80326321e-062\n",
      "  6.46866806e-061  8.41135406e-060  1.04827084e-058  1.23972055e-057\n",
      "  1.37220165e-056  1.39320913e-055  1.25764030e-054  9.57116965e-054\n",
      "  5.52885602e-053  1.82828800e-052 -4.46830729e-053  4.24589337e-054\n",
      " -2.00348872e-055  4.71424990e-057 -4.43130470e-059]\n",
      "SSE =  5859.376404290878\n"
     ]
    }
   ],
   "source": [
    "from sklearn.linear_model import LinearRegression\n",
    "model = LinearRegression().fit(X_poly, yy)\n",
    "print(\"Intercept=\", model.intercept_, \"Beta = \", model.coef_)\n",
    "yhat4 = model.predict(X_poly)\n",
    "\n",
    "#beta4 = estimateBeta(X_poly, yy)\n",
    "#print(\"Beta = \", beta4)\n",
    "#yhat4 = predict(beta4, X_poly)\n",
    "\n",
    "loss = SSE(yy, yhat4)\n",
    "print(\"SSE = \", loss)"
   ]
  },
  {
   "cell_type": "code",
   "execution_count": null,
   "id": "478c21d9",
   "metadata": {
    "ExecuteTime": {
     "end_time": "2024-08-11T10:28:17.227856Z",
     "start_time": "2024-08-11T10:28:17.223470Z"
    }
   },
   "outputs": [],
   "source": []
  },
  {
   "cell_type": "markdown",
   "id": "a1c93470",
   "metadata": {},
   "source": [
    "### Let's plot the raw data and the regression line on the same plot"
   ]
  },
  {
   "cell_type": "code",
   "execution_count": 21,
   "id": "96b0c421",
   "metadata": {
    "ExecuteTime": {
     "end_time": "2024-08-14T04:54:46.548191Z",
     "start_time": "2024-08-14T04:54:46.432604Z"
    }
   },
   "outputs": [
    {
     "data": {
      "image/png": "[encoded data removed]",
      "text/plain": [
       "<Figure size 432x288 with 1 Axes>"
      ]
     },
     "metadata": {
      "needs_background": "light"
     },
     "output_type": "display_data"
    }
   ],
   "source": [
    "plt.plot(y2.x, y2.y, 'r+')\n",
    "plt.plot(y2.x, yhat4, 'b-')\n",
    "plt.ylabel('Stock Price')\n",
    "plt.xlabel('Time')\n",
    "plt.legend(['Price', 'OLS'], loc='upper left')\n",
    "plt.show()"
   ]
  },
  {
   "cell_type": "markdown",
   "id": "77e32905",
   "metadata": {},
   "source": [
    "### Brilliant, how to I find the best degree automatically without performing a linear search!"
   ]
  },
  {
   "cell_type": "code",
   "execution_count": 22,
   "id": "4941f879",
   "metadata": {
    "ExecuteTime": {
     "end_time": "2024-08-14T04:54:47.046578Z",
     "start_time": "2024-08-14T04:54:46.549245Z"
    }
   },
   "outputs": [
    {
     "name": "stdout",
     "output_type": "stream",
     "text": [
      "Beta = [ 0.00000000e+00  0.00000000e+00  0.00000000e+00  0.00000000e+00\n",
      "  5.23457505e-04  6.41066638e-05 -5.00453235e-06 -9.79342429e-08\n",
      " -7.34194177e-10  7.01900019e-11  5.70660175e-12  2.94593403e-13\n",
      "  1.23876577e-14  4.44651873e-16  1.32976499e-17  2.81341868e-19\n",
      " -4.81288180e-22 -5.14583566e-22 -3.99266834e-23 -2.30098408e-24\n",
      " -1.15738350e-25 -5.34667275e-27 -2.31725753e-28 -9.50443771e-30\n",
      " -3.69230332e-31 -1.34910135e-32 -4.54691203e-34 -1.34596965e-35\n",
      " -2.98223430e-37 -4.17799332e-40  5.12227162e-40  4.39817165e-41\n",
      "  2.77180373e-42  1.53263050e-43  7.85151987e-45  3.81476534e-46\n",
      "  1.77812014e-47  7.99524711e-49  3.47393981e-50  1.45627365e-51\n",
      "  5.85713545e-53  2.23340753e-54  7.87355753e-56  2.41406741e-57\n",
      "  5.17792424e-59 -4.70872659e-61 -1.56867472e-61 -1.35435280e-62\n",
      " -9.15993261e-64 -5.55786862e-65 -3.16850061e-66]\n",
      "SSE = 2444.6441748495045\n"
     ]
    },
    {
     "name": "stderr",
     "output_type": "stream",
     "text": [
      "/home/sudarsun/.local/lib/python3.10/site-packages/sklearn/linear_model/_coordinate_descent.py:678: ConvergenceWarning: Objective did not converge. You might want to increase the number of iterations, check the scale of the features or consider increasing regularisation. Duality gap: 1.289e+03, tolerance: 1.248e+00\n",
      "  model = cd_fast.enet_coordinate_descent(\n"
     ]
    }
   ],
   "source": [
    "from sklearn.linear_model import Lasso, Ridge\n",
    "model5 = Lasso(alpha=500, max_iter=50000).fit(X_poly, yy)\n",
    "#model5 = Ridge(alpha=5220).fit(X_poly,yy)\n",
    "print(\"Beta =\", model5.coef_)\n",
    "yhat5 = model5.predict(X_poly)\n",
    "loss = SSE(yy, yhat5)\n",
    "print(\"SSE =\", loss)"
   ]
  },
  {
   "cell_type": "code",
   "execution_count": 23,
   "id": "35085098",
   "metadata": {
    "ExecuteTime": {
     "end_time": "2024-08-14T04:54:47.200670Z",
     "start_time": "2024-08-14T04:54:47.047806Z"
    }
   },
   "outputs": [
    {
     "data": {
      "image/png": "[encoded data removed]",
      "text/plain": [
       "<Figure size 432x288 with 1 Axes>"
      ]
     },
     "metadata": {
      "needs_background": "light"
     },
     "output_type": "display_data"
    }
   ],
   "source": [
    "plt.ylabel('Stock Price')\n",
    "plt.xlabel('Time')\n",
    "plt.plot(y2.x, y2.y, 'r+')\n",
    "plt.plot(y2.x, yhat4, 'b-')\n",
    "plt.plot(y2.x, yhat5, 'g-')\n",
    "plt.plot(y2.x, yhat2, '--')\n",
    "plt.plot(y2.x, yhat3, 'k')\n",
    "plt.legend(['Stock Price', 'PolynomialFit', 'Poly+Lasso', 'LineFit', 'Line+Sinusoid'], loc='upper left')\n",
    "plt.show()"
   ]
  },
  {
   "cell_type": "markdown",
   "id": "e860eeae",
   "metadata": {},
   "source": [
    "### what if closed form is not possible?  Gradient descent comes to the rescue."
   ]
  },
  {
   "cell_type": "markdown",
   "id": "5a27f10e",
   "metadata": {},
   "source": [
    "Let's consider solving the LineFit problem in the Gradient Descent style.\n",
    "\n",
    "As long as our mathematical model of the system is differentiable (gradients are computable), our loss function $\\mathcal{L} = (y-\\hat{y})^2$ remains differentiable.\n",
    "\n",
    "Our linear model is given by $\\hat{y} = \\beta_0 + \\beta_1 x = X^\\top\\beta$ and the loss is given by $\\mathcal{L} = [y - (\\beta_0 + \\beta_1 x)]^2 = [y-X^\\top\\beta]^\\top[y-X^\\top\\beta]$\n",
    "\n",
    "The average loss gradients for the full dataset are given by $\\frac{\\partial\\mathcal{L}}{\\partial\\beta_0} = \\frac{-2}{N} \\sum (y-\\hat{y}) $ and $\\frac{\\partial\\mathcal{L}}{\\partial\\beta_1} = \\frac{-2}{N} \\sum X^\\top(y-\\hat{y})$"
   ]
  },
  {
   "cell_type": "markdown",
   "id": "ddd07dbc",
   "metadata": {},
   "source": [
    "### the GD algorithm"
   ]
  },
  {
   "cell_type": "markdown",
   "id": "3f874abd",
   "metadata": {},
   "source": [
    "* Choose the mathematical model; ensure it's continuous and differentiable.\n",
    "* Initialize the model parameters to random numbers.  Usually they are sampled from standard normal distribution.\n",
    "* Compute the gradient of the loss based on the current model parametric setting.\n",
    "* Update the parameters using $\\beta_i \\leftarrow \\beta_i + \\eta \\frac{\\partial\\mathcal{L}}{\\partial\\beta_i}$\n",
    "* Repeat the last two steps until the loss minimizes to the required target or it reaches a plateau.  If the loss increases, you have done something incorrectly."
   ]
  },
  {
   "cell_type": "markdown",
   "id": "4962336f",
   "metadata": {},
   "source": [
    "### let's implement the gradient descent algorithm for the linefit solution."
   ]
  },
  {
   "cell_type": "code",
   "execution_count": 24,
   "id": "a16f17a3",
   "metadata": {
    "ExecuteTime": {
     "end_time": "2024-08-14T04:54:47.262293Z",
     "start_time": "2024-08-14T04:54:47.201615Z"
    }
   },
   "outputs": [],
   "source": [
    "from tqdm.auto import tqdm\n",
    "\n",
    "class MyLineFitViaGD:\n",
    "    def __init__(self, learning_rate=0.0001, n_iters=10_000):\n",
    "        self.lr = learning_rate\n",
    "        self.n_iters = n_iters\n",
    "        self.weights = None\n",
    "        self.bias = None\n",
    "\n",
    "    def fit(self, X, y):\n",
    "        n_samples, n_features = X.shape\n",
    "        # init parameters\n",
    "        self.weights = np.random.randn(n_features)\n",
    "        self.bias = np.random.randn(1)\n",
    "        # gradient descent\n",
    "        tq = tqdm(range(self.n_iters), desc=\"Iterations\")\n",
    "        for _ in  tq:\n",
    "            # approximate y with linear combination of weights and x, plus bias\n",
    "            y_predicted = np.matmul(X, self.weights) + self.bias\n",
    "\n",
    "            # compute the gap between true and predicted outputs.\n",
    "            diff = y_predicted - y\n",
    "            loss = np.sum(diff * diff)\n",
    "            \n",
    "            # compute gradients\n",
    "            dw = (1 / n_samples) * np.matmul(X.T, diff)\n",
    "            db = (1 / n_samples) * np.sum(diff)\n",
    "            # update parameters\n",
    "            self.weights  = self.weights - self.lr * dw\n",
    "            self.bias  = self.bias -  self.lr * db\n",
    "            \n",
    "            # display the loss on the progress bar.\n",
    "            tq.set_postfix({\"Loss\":loss})\n",
    "            \n",
    "    @property\n",
    "    def parameters(self):\n",
    "        return self.bias, self.weights\n",
    "            \n",
    "    def predict(self, X):\n",
    "        y_predicted = np.dot(X, self.weights) + self.bias\n",
    "        return y_predicted"
   ]
  },
  {
   "cell_type": "markdown",
   "id": "1f85fd1c",
   "metadata": {},
   "source": [
    "### recall our linear fit dataset and construct the dataset matrices again"
   ]
  },
  {
   "cell_type": "code",
   "execution_count": 25,
   "id": "8c52eb30",
   "metadata": {
    "ExecuteTime": {
     "end_time": "2024-08-14T04:54:47.267212Z",
     "start_time": "2024-08-14T04:54:47.263270Z"
    }
   },
   "outputs": [
    {
     "name": "stdout",
     "output_type": "stream",
     "text": [
      "   bias  x     y\n",
      "0   1.0  0  3.48\n",
      "1   1.0  1  2.99\n",
      "2   1.0  2  5.86\n",
      "3   1.0  3  1.79\n",
      "4   1.0  4  3.47\n"
     ]
    }
   ],
   "source": [
    "print(y2df.head())\n",
    "yy = np.array(y2df.y) \n",
    "xx = np.array(y2df[[\"x\"]])  # no need for \"bias\", as our GD method factors it already."
   ]
  },
  {
   "cell_type": "markdown",
   "id": "f420f64e",
   "metadata": {},
   "source": [
    "### let's now build the model via Gradient Descent"
   ]
  },
  {
   "cell_type": "code",
   "execution_count": 26,
   "id": "db754a37",
   "metadata": {
    "ExecuteTime": {
     "end_time": "2024-08-14T04:54:47.962469Z",
     "start_time": "2024-08-14T04:54:47.268257Z"
    }
   },
   "outputs": [
    {
     "data": {
      "application/vnd.jupyter.widget-view+json": {
       "model_id": "b7c393144ddb41efa1c8275fa745c70d",
       "version_major": 2,
       "version_minor": 0
      },
      "text/plain": [
       "Iterations:   0%|          | 0/5000 [00:00<?, ?it/s]"
      ]
     },
     "metadata": {},
     "output_type": "display_data"
    },
    {
     "name": "stdout",
     "output_type": "stream",
     "text": [
      "Bias = [-0.25017139]  Weights = [0.12099041]\n",
      "Loss = 3944.8810161236206\n"
     ]
    }
   ],
   "source": [
    "gdmodel = MyLineFitViaGD(learning_rate=0.0000001, n_iters=5000)\n",
    "# fit the model and estimate the yhat values.\n",
    "gdmodel.fit(xx, yy)\n",
    "#get the learned parameters from the model.\n",
    "bias, weights = gdmodel.parameters\n",
    "print(\"Bias =\", bias, \" Weights =\", weights)\n",
    "# use the model to predict the yhat values.\n",
    "yhat6 = gdmodel.predict(xx)\n",
    "# estimate the loss again and display\n",
    "loss = SSE(yy, yhat6)\n",
    "print (\"Loss =\", loss)"
   ]
  },
  {
   "cell_type": "markdown",
   "id": "6a5a91ec",
   "metadata": {},
   "source": [
    "### let's visualize and compare the linear fits estimated by OLS and GD."
   ]
  },
  {
   "cell_type": "code",
   "execution_count": 27,
   "id": "10e749b7",
   "metadata": {
    "ExecuteTime": {
     "end_time": "2024-08-14T04:54:48.080783Z",
     "start_time": "2024-08-14T04:54:47.998692Z"
    }
   },
   "outputs": [
    {
     "data": {
      "image/png": "[encoded data removed]",
      "text/plain": [
       "<Figure size 432x288 with 1 Axes>"
      ]
     },
     "metadata": {
      "needs_background": "light"
     },
     "output_type": "display_data"
    }
   ],
   "source": [
    "plt.plot(y2.x, y2.y, 'r+')\n",
    "yhat1 = predict(beta, y2.x)\n",
    "plt.plot(y2.x, yhat1, 'b-')\n",
    "plt.plot(y2.x, yhat6, 'g-')\n",
    "plt.ylabel('Stock Price')\n",
    "plt.xlabel('Time')\n",
    "plt.legend(['Stock Price', 'LineFit+OLS', 'LineFit+GD'], loc='upper left')\n",
    "plt.show()"
   ]
  },
  {
   "cell_type": "markdown",
   "id": "c9a702fb",
   "metadata": {},
   "source": [
    "### let's try GD on our sinusoidal mathematical model\n",
    "\n",
    "Now, our mathematical model of system is given by $\\hat{y} = \\beta_0 + \\beta_1 x + \\beta_2\\sin(\\beta_3 x)$\n",
    "\n",
    "$\\frac{\\partial\\mathcal{L}}{\\partial\\beta_0} = \\frac{-2}{N} \\sum (y-\\hat{y})$\n",
    "\n",
    "$\\frac{\\partial\\mathcal{L}}{\\partial\\beta_1} = \\frac{-2}{N} \\sum X^\\top(y-\\hat{y})$\n",
    "\n",
    "$\\frac{\\partial\\mathcal{L}}{\\partial\\beta_2} = \\frac{-2}{N} \\sum \\sin(\\beta_3 X)^\\top(y-\\hat{y})$\n",
    "\n",
    "$\\frac{\\partial\\mathcal{L}}{\\partial\\beta_3} = \\frac{-2}{N} \\sum (\\beta_2\\cos(\\beta_3 X) \\cdot X)^\\top(y-\\hat{y})$"
   ]
  },
  {
   "cell_type": "code",
   "execution_count": 28,
   "id": "a657dfa2",
   "metadata": {
    "ExecuteTime": {
     "end_time": "2024-08-14T04:54:48.089399Z",
     "start_time": "2024-08-14T04:54:48.083435Z"
    }
   },
   "outputs": [],
   "source": [
    "class MySinusoidFitViaGD:\n",
    "    def __init__(self, learning_rate=0.0001, n_iters=10_000):\n",
    "        self.lr = learning_rate\n",
    "        self.n_iters = n_iters\n",
    "        # init parameters\n",
    "        self.m1 = np.abs(np.random.randn(1))\n",
    "        self.m2 = np.abs(np.random.randn(1))\n",
    "        # if I set this to random, convergence is not happening.  Choosing an initial value around 1.0 help convergence.\n",
    "        self.m3 = [1] #np.abs(np.random.randn(1))\n",
    "        self.bias = np.random.randn(1)\n",
    "        print(f\"Initial Params: Bias={self.bias[0]} M1={self.m1[0]}, M2={self.m2[0]}, M3={self.m3[0]}\")\n",
    "        \n",
    "    def fit(self, X, y):\n",
    "        n_samples, n_features = X.shape\n",
    "        # gradient descent\n",
    "        tq = tqdm(range(self.n_iters), desc=\"Iterations\")\n",
    "        # placeholder to capture the loss trend. \n",
    "        history = []\n",
    "\n",
    "        for _ in  tq:\n",
    "            # approximate y with linear combination of weights and x, plus bias\n",
    "            y_predicted = self.predict(X)\n",
    "\n",
    "            # compute the gap between true and predicted outputs.\n",
    "            diff = y - y_predicted\n",
    "            loss = SSE(y, y_predicted)\n",
    "            \n",
    "            # compute gradients\n",
    "            dm1 = (-2 / n_samples) * np.matmul(X.T, diff)\n",
    "            dm2 = (-2 / n_samples) * np.matmul(np.sin(self.m3*X).T, diff)\n",
    "            dm3 = (-2 / n_samples) * np.matmul((X *self.m2* np.cos(self.m3*X)).T, diff)  \n",
    "            db  = (-2 / n_samples) * np.sum(diff)\n",
    "            \n",
    "            # update parameters\n",
    "            self.m1  = self.m1 - self.lr * dm1\n",
    "            self.m2  = self.m2 - self.lr * dm2\n",
    "            self.m3  = self.m3 - self.lr * dm3\n",
    "            self.bias= self.bias -  self.lr * db\n",
    "            \n",
    "            # display the loss on the progress bar.\n",
    "            tq.set_postfix({\"Loss\":loss})\n",
    "            \n",
    "            record = self.parameters\n",
    "            record.append(loss)\n",
    "            history.append(record)\n",
    "            \n",
    "        #print(history)\n",
    "        #return history\n",
    "        return np.array(history)\n",
    "            \n",
    "    @property\n",
    "    def parameters(self):\n",
    "        return [self.bias[0], self.m1[0][0], self.m2[0][0], self.m3[0][0]]\n",
    "            \n",
    "    def predict(self, X):\n",
    "        y_predicted = self.bias + self.m1*X + self.m2*np.sin(self.m3*X)\n",
    "        return y_predicted"
   ]
  },
  {
   "cell_type": "code",
   "execution_count": 29,
   "id": "e34bf20d",
   "metadata": {
    "ExecuteTime": {
     "end_time": "2024-08-14T04:54:48.096409Z",
     "start_time": "2024-08-14T04:54:48.090356Z"
    }
   },
   "outputs": [
    {
     "data": {
      "text/html": [
       "<div>\n",
       "<style scoped>\n",
       "    .dataframe tbody tr th:only-of-type {\n",
       "        vertical-align: middle;\n",
       "    }\n",
       "\n",
       "    .dataframe tbody tr th {\n",
       "        vertical-align: top;\n",
       "    }\n",
       "\n",
       "    .dataframe thead th {\n",
       "        text-align: right;\n",
       "    }\n",
       "</style>\n",
       "<table border=\"1\" class=\"dataframe\">\n",
       "  <thead>\n",
       "    <tr style=\"text-align: right;\">\n",
       "      <th></th>\n",
       "      <th>bias</th>\n",
       "      <th>x</th>\n",
       "      <th>x1</th>\n",
       "      <th>y</th>\n",
       "    </tr>\n",
       "  </thead>\n",
       "  <tbody>\n",
       "    <tr>\n",
       "      <th>0</th>\n",
       "      <td>1.0</td>\n",
       "      <td>0</td>\n",
       "      <td>0.00</td>\n",
       "      <td>3.48</td>\n",
       "    </tr>\n",
       "    <tr>\n",
       "      <th>1</th>\n",
       "      <td>1.0</td>\n",
       "      <td>1</td>\n",
       "      <td>0.10</td>\n",
       "      <td>2.99</td>\n",
       "    </tr>\n",
       "    <tr>\n",
       "      <th>2</th>\n",
       "      <td>1.0</td>\n",
       "      <td>2</td>\n",
       "      <td>0.20</td>\n",
       "      <td>5.86</td>\n",
       "    </tr>\n",
       "    <tr>\n",
       "      <th>3</th>\n",
       "      <td>1.0</td>\n",
       "      <td>3</td>\n",
       "      <td>0.29</td>\n",
       "      <td>1.79</td>\n",
       "    </tr>\n",
       "    <tr>\n",
       "      <th>4</th>\n",
       "      <td>1.0</td>\n",
       "      <td>4</td>\n",
       "      <td>0.39</td>\n",
       "      <td>3.47</td>\n",
       "    </tr>\n",
       "  </tbody>\n",
       "</table>\n",
       "</div>"
      ],
      "text/plain": [
       "   bias  x    x1     y\n",
       "0   1.0  0  0.00  3.48\n",
       "1   1.0  1  0.10  2.99\n",
       "2   1.0  2  0.20  5.86\n",
       "3   1.0  3  0.29  1.79\n",
       "4   1.0  4  0.39  3.47"
      ]
     },
     "execution_count": 29,
     "metadata": {},
     "output_type": "execute_result"
    }
   ],
   "source": [
    "# here we don't need the explicit bias feature column\n",
    "xx = np.array(y21[['x1']])\n",
    "yy = np.expand_dims(y2.y, 1) \n",
    "y21.head()"
   ]
  },
  {
   "cell_type": "markdown",
   "id": "e2c93b91",
   "metadata": {},
   "source": [
    "### let's now build the model via Gradient Descent"
   ]
  },
  {
   "cell_type": "code",
   "execution_count": 30,
   "id": "e39b9b8a",
   "metadata": {
    "ExecuteTime": {
     "end_time": "2024-08-14T04:54:49.832784Z",
     "start_time": "2024-08-14T04:54:48.097242Z"
    }
   },
   "outputs": [
    {
     "name": "stdout",
     "output_type": "stream",
     "text": [
      "Initial Params: Bias=1.8272558939179544 M1=0.43694238356158693, M2=2.039771754962639, M3=1\n"
     ]
    },
    {
     "data": {
      "application/vnd.jupyter.widget-view+json": {
       "model_id": "0828fc9f558a4e4f9f4104cdadee0352",
       "version_major": 2,
       "version_minor": 0
      },
      "text/plain": [
       "Iterations:   0%|          | 0/15000 [00:00<?, ?it/s]"
      ]
     },
     "metadata": {},
     "output_type": "display_data"
    },
    {
     "name": "stdout",
     "output_type": "stream",
     "text": [
      "Bias =  2.358230042199349  m1 = 1.0341757996020005  m2 = 4.382421363599116  m3 = 1.0218743563913895\n",
      "Loss = 530.9434870956652\n"
     ]
    },
    {
     "data": {
      "image/png": "[encoded data removed]",
      "text/plain": [
       "<Figure size 720x360 with 2 Axes>"
      ]
     },
     "metadata": {
      "needs_background": "light"
     },
     "output_type": "display_data"
    }
   ],
   "source": [
    "gdmodel = MySinusoidFitViaGD(learning_rate=0.0001, n_iters=15000)\n",
    "# fit the model and estimate the yhat values.\n",
    "history = gdmodel.fit(xx, yy)\n",
    "#get the learned parameters from the model.\n",
    "bias, w1, w2, w3 = gdmodel.parameters\n",
    "print(\"Bias = \", bias, \" m1 =\", w1, \" m2 =\", w2, \" m3 =\", w3)\n",
    "# use the model to predict the yhat values.\n",
    "yhat7 = gdmodel.predict(xx)\n",
    "# estimate the loss again and display\n",
    "loss = SSE(yy, yhat7)\n",
    "print (\"Loss =\", loss)\n",
    "\n",
    "# let's plot the params and loss.\n",
    "a1 = range(len(history))\n",
    "fig, (ax1, ax2) = plt.subplots(2, 1)\n",
    "fig.suptitle('Parameters & Loss')\n",
    "fig.set_figwidth(10)\n",
    "fig.set_figheight(5)\n",
    "\n",
    "ax1.plot(a1, history[:,0])\n",
    "ax1.plot(a1, history[:,1])\n",
    "ax1.plot(a1, history[:,2])\n",
    "ax1.plot(a1, history[:,3])\n",
    "ax1.legend(['Bias', 'm1', 'm2', 'm3'], loc='upper left')\n",
    "\n",
    "ax2.plot(a1, history[:,4])\n",
    "ax2.set_xlabel('Epochs')\n",
    "ax2.legend(['Loss'], loc='upper right')\n",
    "plt.show()"
   ]
  },
  {
   "cell_type": "markdown",
   "id": "c7607e65",
   "metadata": {},
   "source": [
    "### let's visualize and compare the linear fits estimated by OLS and GD."
   ]
  },
  {
   "cell_type": "code",
   "execution_count": 31,
   "id": "ea8c7009",
   "metadata": {
    "ExecuteTime": {
     "end_time": "2024-08-14T04:54:49.912716Z",
     "start_time": "2024-08-14T04:54:49.833654Z"
    }
   },
   "outputs": [
    {
     "data": {
      "image/png": "[encoded data removed]",
      "text/plain": [
       "<Figure size 432x288 with 1 Axes>"
      ]
     },
     "metadata": {
      "needs_background": "light"
     },
     "output_type": "display_data"
    }
   ],
   "source": [
    "plt.plot(y2.x, y2.y, 'r+')\n",
    "yhat1 = predict(beta, y2.x)\n",
    "plt.plot(y2.x, yhat3, 'b-')\n",
    "plt.plot(y2.x, yhat7, 'g-')\n",
    "plt.ylabel('Stock Price')\n",
    "plt.xlabel('Time')\n",
    "plt.legend(['Stock Price', 'SinusoidFit+OLS', 'SinusoidFit+GD'], loc='upper left')\n",
    "plt.show()"
   ]
  },
  {
   "cell_type": "markdown",
   "id": "b294f3cf",
   "metadata": {},
   "source": [
    "### let's try doing the same using Tensorflow, where gradients are computed automatically.\n",
    "\n",
    "#### here, we don't have to hardcode the initial values.  The network learns all parameters automatically."
   ]
  },
  {
   "cell_type": "code",
   "execution_count": 188,
   "id": "334c0b97",
   "metadata": {
    "ExecuteTime": {
     "end_time": "2024-08-14T05:13:41.526650Z",
     "start_time": "2024-08-14T05:13:41.522891Z"
    }
   },
   "outputs": [],
   "source": [
    "import tensorflow as tf\n",
    "from tensorflow.keras import layers\n",
    "from tensorflow.keras.layers import Activation\n",
    "from tensorflow.keras import backend as K"
   ]
  },
  {
   "cell_type": "code",
   "execution_count": 189,
   "id": "fa15fdd7",
   "metadata": {
    "ExecuteTime": {
     "end_time": "2024-08-14T05:15:06.651626Z",
     "start_time": "2024-08-14T05:15:06.643133Z"
    }
   },
   "outputs": [],
   "source": [
    "class ParameterizedSinusoid(layers.Layer):\n",
    "    def __init__(self, **kwargs):\n",
    "        super(ParameterizedSinusoid, self).__init__(**kwargs)\n",
    "\n",
    "    def build(self, input_shape):\n",
    "        # Create a trainable weight variable for this layer.\n",
    "        self.W = self.add_weight(shape=(1, input_shape[1]),\n",
    "                                 initializer='random_normal',\n",
    "                                 trainable=True)\n",
    "        super(ParameterizedSinusoid, self).build(input_shape)  # Be sure to call this somewhere!\n",
    "\n",
    "    def call(self, inputs):\n",
    "        # compute sin(Wx)\n",
    "        ax = tf.math.sin(tf.multiply(self.W, inputs))\n",
    "        return ax\n",
    "    \n",
    "class Sinusoid(layers.Layer):\n",
    "    def __init__(self, **kwargs):\n",
    "        super(Sinusoid, self).__init__(**kwargs)\n",
    "\n",
    "    def build(self, input_shape):\n",
    "        super(Sinusoid, self).build(input_shape)  # Be sure to call this somewhere!\n",
    "\n",
    "    def call(self, inputs):\n",
    "        # compute sin(x)\n",
    "        ax = tf.math.sin(inputs)\n",
    "        return ax"
   ]
  },
  {
   "cell_type": "markdown",
   "id": "61972df8",
   "metadata": {},
   "source": [
    "### let's create a custom activation function"
   ]
  },
  {
   "cell_type": "code",
   "execution_count": 190,
   "id": "578bb087",
   "metadata": {},
   "outputs": [],
   "source": [
    "# let's define a custom activation function \"sinusoid\"\n",
    "def sinusoid(x):\n",
    "    return tf.math.sin(x)\n",
    "\n",
    "from keras.utils import get_custom_objects\n",
    "get_custom_objects().update({'sinusoid': Activation(sinusoid)})"
   ]
  },
  {
   "cell_type": "markdown",
   "id": "790a26da",
   "metadata": {},
   "source": [
    "### reload the dataset "
   ]
  },
  {
   "cell_type": "code",
   "execution_count": 219,
   "id": "7bc343ac",
   "metadata": {
    "ExecuteTime": {
     "end_time": "2024-08-14T06:06:57.086400Z",
     "start_time": "2024-08-14T06:06:57.045665Z"
    }
   },
   "outputs": [
    {
     "name": "stdout",
     "output_type": "stream",
     "text": [
      "   bias  x    x1     y\n",
      "0   1.0  0  0.00  3.48\n",
      "1   1.0  1  0.10  2.99\n",
      "2   1.0  2  0.20  5.86\n",
      "3   1.0  3  0.29  1.79\n",
      "4   1.0  4  0.39  3.47\n"
     ]
    }
   ],
   "source": [
    "#print(y2df.head())\n",
    "#yy = np.array(y2df.y) \n",
    "#xx = np.array(y2df[[\"x1\"]])  # no need for \"bias\", as our GD method factors it already.\n",
    "\n",
    "print(y21.head())\n",
    "yy = np.array(y21.y) \n",
    "xx = np.array(y21[[\"x1\"]])  # no need for \"bias\", as our GD method factors it already.\n",
    "reg_ds = tf.data.Dataset.from_tensor_slices((xx, yy)).batch(100)"
   ]
  },
  {
   "cell_type": "markdown",
   "id": "591e4138",
   "metadata": {},
   "source": [
    "### create a neural network for the sinusoidal feature based regression fit"
   ]
  },
  {
   "cell_type": "code",
   "execution_count": 228,
   "id": "ad1b61e7",
   "metadata": {},
   "outputs": [
    {
     "name": "stdout",
     "output_type": "stream",
     "text": [
      "Model: \"regressor\"\n",
      "__________________________________________________________________________________________________\n",
      " Layer (type)                   Output Shape         Param #     Connected to                     \n",
      "==================================================================================================\n",
      " input (InputLayer)             [(None, 1)]          0           []                               \n",
      "                                                                                                  \n",
      " m3 (Dense)                     (None, 1)            1           ['input[0][0]']                  \n",
      "                                                                                                  \n",
      " m1 (Dense)                     (None, 1)            2           ['input[0][0]']                  \n",
      "                                                                                                  \n",
      " m2 (Dense)                     (None, 1)            1           ['m3[0][0]']                     \n",
      "                                                                                                  \n",
      " output (Add)                   (None, 1)            0           ['m1[0][0]',                     \n",
      "                                                                  'm2[0][0]']                     \n",
      "                                                                                                  \n",
      "==================================================================================================\n",
      "Total params: 4\n",
      "Trainable params: 4\n",
      "Non-trainable params: 0\n",
      "__________________________________________________________________________________________________\n"
     ]
    },
    {
     "data": {
      "image/png": "[encoded data removed]",
      "text/plain": [
       "<PIL.Image.Image image mode=RGBA size=1270x330>"
      ]
     },
     "execution_count": 228,
     "metadata": {},
     "output_type": "execute_result"
    }
   ],
   "source": [
    "inputs = layers.Input((1,), dtype=tf.float32, name='input')\n",
    "d1 = layers.Dense(1, name='m3', activation=\"sinusoid\", use_bias=False)(inputs)\n",
    "d2 = layers.Dense(1, name='m1', use_bias=True)(inputs)\n",
    "d3 = layers.Dense(1, name='m2', use_bias=False)(d1)\n",
    "output = layers.add((d2, d3), name='output')\n",
    "model = tf.keras.Model(inputs, output, name='regressor')\n",
    "model.compile(optimizer = tf.keras.optimizers.Adam(learning_rate=0.0001), loss='mean_squared_error')\n",
    "model.summary()\n",
    "visualkeras.graph_view(model)"
   ]
  },
  {
   "cell_type": "markdown",
   "id": "86a56fbf",
   "metadata": {},
   "source": [
    "### layers visualization"
   ]
  },
  {
   "cell_type": "code",
   "execution_count": 229,
   "id": "f1adc56f",
   "metadata": {},
   "outputs": [
    {
     "data": {
      "image/png": "[encoded data removed]",
      "text/plain": [
       "<IPython.core.display.Image object>"
      ]
     },
     "execution_count": 229,
     "metadata": {},
     "output_type": "execute_result"
    }
   ],
   "source": [
    "from keras.utils import plot_model\n",
    "plot_model(model)"
   ]
  },
  {
   "cell_type": "markdown",
   "id": "300591fc",
   "metadata": {
    "ExecuteTime": {
     "end_time": "2024-08-14T06:06:59.143388Z",
     "start_time": "2024-08-14T06:06:59.134421Z"
    }
   },
   "source": [
    "### learn the network.  If the loss does not go below 10, restart training!"
   ]
  },
  {
   "cell_type": "code",
   "execution_count": 230,
   "id": "1a3a492b",
   "metadata": {
    "ExecuteTime": {
     "end_time": "2024-08-14T06:13:32.348144Z",
     "start_time": "2024-08-14T06:07:05.990290Z"
    }
   },
   "outputs": [
    {
     "data": {
      "application/vnd.jupyter.widget-view+json": {
       "model_id": "b3e657150f9b4a00a141b18ca7c0d948",
       "version_major": 2,
       "version_minor": 0
      },
      "text/plain": [
       "0epoch [00:00, ?epoch/s]"
      ]
     },
     "metadata": {},
     "output_type": "display_data"
    },
    {
     "name": "stdout",
     "output_type": "stream",
     "text": [
      "3/3 [==============================] - 0s 2ms/step\n"
     ]
    },
    {
     "data": {
      "image/png": "[encoded data removed]",
      "text/plain": [
       "<Figure size 432x288 with 1 Axes>"
      ]
     },
     "metadata": {
      "needs_background": "light"
     },
     "output_type": "display_data"
    },
    {
     "data": {
      "text/plain": [
       "[<tf.Variable 'm3/kernel:0' shape=(1, 1) dtype=float32, numpy=array([[1.4240808]], dtype=float32)>,\n",
       " <tf.Variable 'm1/kernel:0' shape=(1, 1) dtype=float32, numpy=array([[-1.131118]], dtype=float32)>,\n",
       " <tf.Variable 'm1/bias:0' shape=(1,) dtype=float32, numpy=array([0.13526212], dtype=float32)>,\n",
       " <tf.Variable 'm2/kernel:0' shape=(1, 1) dtype=float32, numpy=array([[-1.5789366]], dtype=float32)>]"
      ]
     },
     "execution_count": 230,
     "metadata": {},
     "output_type": "execute_result"
    }
   ],
   "source": [
    "from tqdm.keras import TqdmCallback\n",
    "\n",
    "history = model.fit(reg_ds, epochs = 500, verbose=0, callbacks=[TqdmCallback(verbose=0)])\n",
    "yhat8 = model.predict(reg_ds)\n",
    "\n",
    "plt.plot(history.history['loss'])\n",
    "plt.title('Loss')\n",
    "plt.ylabel('loss')\n",
    "plt.xlabel('epoch')\n",
    "plt.legend(['train'], loc='upper left')\n",
    "plt.show()\n",
    "\n",
    "model.weights"
   ]
  },
  {
   "cell_type": "markdown",
   "id": "db79fb39",
   "metadata": {},
   "source": [
    "### plot and compare the fits through OLS and TF/GD"
   ]
  },
  {
   "cell_type": "code",
   "execution_count": 231,
   "id": "f88d77c4",
   "metadata": {
    "ExecuteTime": {
     "end_time": "2024-08-14T06:13:53.141377Z",
     "start_time": "2024-08-14T06:13:53.056633Z"
    }
   },
   "outputs": [
    {
     "data": {
      "image/png": "[encoded data removed]",
      "text/plain": [
       "<Figure size 432x288 with 1 Axes>"
      ]
     },
     "metadata": {
      "needs_background": "light"
     },
     "output_type": "display_data"
    }
   ],
   "source": [
    "plt.plot(y2.x, y2.y, 'r+')\n",
    "yhat1 = predict(beta, y2.x)\n",
    "plt.plot(y2.x, yhat3, 'b-')\n",
    "plt.plot(y2.x, yhat8, 'g-')\n",
    "plt.ylabel('Stock Price')\n",
    "plt.xlabel('Time')\n",
    "plt.legend(['Stock Price', 'SinusoidFit+OLS', 'SinusoidFit+GD'], loc='upper left')\n",
    "plt.show()"
   ]
  },
  {
   "cell_type": "code",
   "execution_count": null,
   "id": "432005d1",
   "metadata": {},
   "outputs": [],
   "source": []
  }
 ],
 "metadata": {
  "kernelspec": {
   "display_name": "Python 3 (ipykernel)",
   "language": "python",
   "name": "python3"
  },
  "language_info": {
   "codemirror_mode": {
    "name": "ipython",
    "version": 3
   },
   "file_extension": ".py",
   "mimetype": "text/x-python",
   "name": "python",
   "nbconvert_exporter": "python",
   "pygments_lexer": "ipython3",
   "version": "3.10.12"
  },
  "varInspector": {
   "cols": {
    "lenName": 16,
    "lenType": 16,
    "lenVar": 40
   },
   "kernels_config": {
    "python": {
     "delete_cmd_postfix": "",
     "delete_cmd_prefix": "del ",
     "library": "var_list.py",
     "varRefreshCmd": "print(var_dic_list())"
    },
    "r": {
     "delete_cmd_postfix": ") ",
     "delete_cmd_prefix": "rm(",
     "library": "var_list.r",
     "varRefreshCmd": "cat(var_dic_list()) "
    }
   },
   "types_to_exclude": [
    "module",
    "function",
    "builtin_function_or_method",
    "instance",
    "_Feature"
   ],
   "window_display": false
  }
 },
 "nbformat": 4,
 "nbformat_minor": 5
}
