{
 "cells": [
  {
   "cell_type": "code",
   "execution_count": 30,
   "id": "830b63ee",
   "metadata": {
    "ExecuteTime": {
     "end_time": "2024-08-15T10:43:21.882490Z",
     "start_time": "2024-08-15T10:43:21.568352Z"
    }
   },
   "outputs": [],
   "source": [
    "import numpy as np\n",
    "import pandas as pd\n",
    "import matplotlib.pyplot as plt\n",
    "import math\n",
    "\n",
    "#comment below if not using ipython notebook\n",
    "%matplotlib inline"
   ]
  },
  {
   "cell_type": "markdown",
   "id": "b85a5fb0",
   "metadata": {},
   "source": [
    "### load the CSV file into a dataframe"
   ]
  },
  {
   "cell_type": "code",
   "execution_count": 2,
   "id": "74a46547",
   "metadata": {
    "ExecuteTime": {
     "end_time": "2024-08-15T11:15:02.698198Z",
     "start_time": "2024-08-15T11:15:02.683708Z"
    }
   },
   "outputs": [
    {
     "data": {
      "text/html": [
       "<div>\n",
       "<style scoped>\n",
       "    .dataframe tbody tr th:only-of-type {\n",
       "        vertical-align: middle;\n",
       "    }\n",
       "\n",
       "    .dataframe tbody tr th {\n",
       "        vertical-align: top;\n",
       "    }\n",
       "\n",
       "    .dataframe thead th {\n",
       "        text-align: right;\n",
       "    }\n",
       "</style>\n",
       "<table border=\"1\" class=\"dataframe\">\n",
       "  <thead>\n",
       "    <tr style=\"text-align: right;\">\n",
       "      <th></th>\n",
       "      <th>x1</th>\n",
       "      <th>x2</th>\n",
       "      <th>x3</th>\n",
       "      <th>x4</th>\n",
       "      <th>x5</th>\n",
       "      <th>y</th>\n",
       "    </tr>\n",
       "  </thead>\n",
       "  <tbody>\n",
       "    <tr>\n",
       "      <th>0</th>\n",
       "      <td>7.11</td>\n",
       "      <td>-447.71</td>\n",
       "      <td>135.66</td>\n",
       "      <td>92.41</td>\n",
       "      <td>96.04</td>\n",
       "      <td>9131.40</td>\n",
       "    </tr>\n",
       "    <tr>\n",
       "      <th>1</th>\n",
       "      <td>7.06</td>\n",
       "      <td>-455.33</td>\n",
       "      <td>94.49</td>\n",
       "      <td>91.76</td>\n",
       "      <td>92.16</td>\n",
       "      <td>9001.86</td>\n",
       "    </tr>\n",
       "    <tr>\n",
       "      <th>2</th>\n",
       "      <td>6.89</td>\n",
       "      <td>-466.86</td>\n",
       "      <td>186.25</td>\n",
       "      <td>89.54</td>\n",
       "      <td>100.00</td>\n",
       "      <td>8595.85</td>\n",
       "    </tr>\n",
       "    <tr>\n",
       "      <th>3</th>\n",
       "      <td>7.25</td>\n",
       "      <td>-440.53</td>\n",
       "      <td>176.83</td>\n",
       "      <td>94.24</td>\n",
       "      <td>84.64</td>\n",
       "      <td>9469.94</td>\n",
       "    </tr>\n",
       "    <tr>\n",
       "      <th>4</th>\n",
       "      <td>7.24</td>\n",
       "      <td>-445.92</td>\n",
       "      <td>185.90</td>\n",
       "      <td>94.11</td>\n",
       "      <td>88.36</td>\n",
       "      <td>9448.98</td>\n",
       "    </tr>\n",
       "  </tbody>\n",
       "</table>\n",
       "</div>"
      ],
      "text/plain": [
       "     x1      x2      x3     x4      x5        y\n",
       "0  7.11 -447.71  135.66  92.41   96.04  9131.40\n",
       "1  7.06 -455.33   94.49  91.76   92.16  9001.86\n",
       "2  6.89 -466.86  186.25  89.54  100.00  8595.85\n",
       "3  7.25 -440.53  176.83  94.24   84.64  9469.94\n",
       "4  7.24 -445.92  185.90  94.11   88.36  9448.98"
      ]
     },
     "execution_count": 2,
     "metadata": {},
     "output_type": "execute_result"
    }
   ],
   "source": [
    "df = pd.read_csv('Assignment3.csv')\n",
    "for col in df.columns:\n",
    "    df[col] = df[col].astype(float)\n",
    "    \n",
    "df.head()"
   ]
  },
  {
   "cell_type": "markdown",
   "id": "baa6d1b3",
   "metadata": {},
   "source": [
    "There are 5 predictor variables and one output variable. Let's blinded fit an OLS model to find if we can get a solution!"
   ]
  },
  {
   "cell_type": "markdown",
   "id": "920f61d3",
   "metadata": {},
   "source": [
    "### prepare the dataset for regression"
   ]
  },
  {
   "cell_type": "code",
   "execution_count": 3,
   "id": "43ef068e",
   "metadata": {
    "ExecuteTime": {
     "end_time": "2024-08-15T11:15:06.203425Z",
     "start_time": "2024-08-15T11:15:06.199168Z"
    }
   },
   "outputs": [],
   "source": [
    "xx = np.array(df[['x1','x2','x3','x4','x5']])\n",
    "yy = np.expand_dims(df['y'], 1)"
   ]
  },
  {
   "cell_type": "markdown",
   "id": "f02b7bf7",
   "metadata": {
    "ExecuteTime": {
     "end_time": "2024-08-15T11:08:59.070570Z",
     "start_time": "2024-08-15T11:08:59.066369Z"
    }
   },
   "source": [
    "### helper methods"
   ]
  },
  {
   "cell_type": "code",
   "execution_count": 4,
   "id": "0c7ef74d",
   "metadata": {
    "ExecuteTime": {
     "end_time": "2024-08-15T11:16:00.163598Z",
     "start_time": "2024-08-15T11:16:00.160833Z"
    }
   },
   "outputs": [],
   "source": [
    "def SSE(y, yhat):\n",
    "    return np.sum((y-yhat)**2)\n"
   ]
  },
  {
   "cell_type": "markdown",
   "id": "ac3e03ed",
   "metadata": {},
   "source": [
    "### fit the OLS model and check the loss."
   ]
  },
  {
   "cell_type": "code",
   "execution_count": 5,
   "id": "e3e40c24",
   "metadata": {
    "ExecuteTime": {
     "end_time": "2024-08-15T11:15:11.892382Z",
     "start_time": "2024-08-15T11:15:11.884052Z"
    }
   },
   "outputs": [
    {
     "name": "stdout",
     "output_type": "stream",
     "text": [
      "Beta : [[-1.06736899e+03  1.00659916e-01 -5.71765977e-02  2.84363302e+02\n",
      "   1.62848730e+00]]  Bias : [-9655.31030896]\n",
      "Loss : 71877.84134016866\n"
     ]
    }
   ],
   "source": [
    "from sklearn import linear_model\n",
    "model1 = linear_model.LinearRegression()\n",
    "model1.fit(xx, yy)\n",
    "yhat = model1.predict(xx)\n",
    "loss = SSE(yy, yhat)\n",
    "print(\"Beta :\", model1.coef_, \" Bias :\", model1.intercept_)\n",
    "print(\"Loss :\",loss)"
   ]
  },
  {
   "cell_type": "markdown",
   "id": "2eed310f",
   "metadata": {
    "ExecuteTime": {
     "end_time": "2024-08-15T11:00:24.082358Z",
     "start_time": "2024-08-15T11:00:24.078080Z"
    }
   },
   "source": [
    "The loss is observed to very high!  Something's fishy.  Ain't it!?"
   ]
  },
  {
   "cell_type": "markdown",
   "id": "87990d6a",
   "metadata": {},
   "source": [
    "### let's check the statistics of the features and outputs."
   ]
  },
  {
   "cell_type": "code",
   "execution_count": 6,
   "id": "72b7b1c1",
   "metadata": {
    "ExecuteTime": {
     "end_time": "2024-08-15T11:17:27.070787Z",
     "start_time": "2024-08-15T11:17:27.054828Z"
    }
   },
   "outputs": [
    {
     "data": {
      "text/html": [
       "<div>\n",
       "<style scoped>\n",
       "    .dataframe tbody tr th:only-of-type {\n",
       "        vertical-align: middle;\n",
       "    }\n",
       "\n",
       "    .dataframe tbody tr th {\n",
       "        vertical-align: top;\n",
       "    }\n",
       "\n",
       "    .dataframe thead th {\n",
       "        text-align: right;\n",
       "    }\n",
       "</style>\n",
       "<table border=\"1\" class=\"dataframe\">\n",
       "  <thead>\n",
       "    <tr style=\"text-align: right;\">\n",
       "      <th></th>\n",
       "      <th>x1</th>\n",
       "      <th>x2</th>\n",
       "      <th>x3</th>\n",
       "      <th>x4</th>\n",
       "      <th>x5</th>\n",
       "      <th>y</th>\n",
       "    </tr>\n",
       "  </thead>\n",
       "  <tbody>\n",
       "    <tr>\n",
       "      <th>count</th>\n",
       "      <td>101.000000</td>\n",
       "      <td>101.000000</td>\n",
       "      <td>101.000000</td>\n",
       "      <td>101.000000</td>\n",
       "      <td>101.000000</td>\n",
       "      <td>101.000000</td>\n",
       "    </tr>\n",
       "    <tr>\n",
       "      <th>mean</th>\n",
       "      <td>7.548713</td>\n",
       "      <td>23.755050</td>\n",
       "      <td>111.371386</td>\n",
       "      <td>98.133762</td>\n",
       "      <td>34.000000</td>\n",
       "      <td>10244.460297</td>\n",
       "    </tr>\n",
       "    <tr>\n",
       "      <th>std</th>\n",
       "      <td>0.380115</td>\n",
       "      <td>292.850177</td>\n",
       "      <td>55.812213</td>\n",
       "      <td>4.942089</td>\n",
       "      <td>30.557704</td>\n",
       "      <td>1022.766123</td>\n",
       "    </tr>\n",
       "    <tr>\n",
       "      <th>min</th>\n",
       "      <td>6.680000</td>\n",
       "      <td>-466.860000</td>\n",
       "      <td>9.800000</td>\n",
       "      <td>86.830000</td>\n",
       "      <td>0.000000</td>\n",
       "      <td>8062.540000</td>\n",
       "    </tr>\n",
       "    <tr>\n",
       "      <th>25%</th>\n",
       "      <td>7.250000</td>\n",
       "      <td>-208.890000</td>\n",
       "      <td>66.380000</td>\n",
       "      <td>94.240000</td>\n",
       "      <td>6.760000</td>\n",
       "      <td>9469.940000</td>\n",
       "    </tr>\n",
       "    <tr>\n",
       "      <th>50%</th>\n",
       "      <td>7.530000</td>\n",
       "      <td>38.950000</td>\n",
       "      <td>104.180000</td>\n",
       "      <td>97.900000</td>\n",
       "      <td>25.000000</td>\n",
       "      <td>10187.660000</td>\n",
       "    </tr>\n",
       "    <tr>\n",
       "      <th>75%</th>\n",
       "      <td>7.800000</td>\n",
       "      <td>262.920000</td>\n",
       "      <td>168.160000</td>\n",
       "      <td>101.420000</td>\n",
       "      <td>57.760000</td>\n",
       "      <td>10866.630000</td>\n",
       "    </tr>\n",
       "    <tr>\n",
       "      <th>max</th>\n",
       "      <td>8.370000</td>\n",
       "      <td>546.880000</td>\n",
       "      <td>195.810000</td>\n",
       "      <td>108.850000</td>\n",
       "      <td>100.000000</td>\n",
       "      <td>12631.050000</td>\n",
       "    </tr>\n",
       "  </tbody>\n",
       "</table>\n",
       "</div>"
      ],
      "text/plain": [
       "               x1          x2          x3          x4          x5  \\\n",
       "count  101.000000  101.000000  101.000000  101.000000  101.000000   \n",
       "mean     7.548713   23.755050  111.371386   98.133762   34.000000   \n",
       "std      0.380115  292.850177   55.812213    4.942089   30.557704   \n",
       "min      6.680000 -466.860000    9.800000   86.830000    0.000000   \n",
       "25%      7.250000 -208.890000   66.380000   94.240000    6.760000   \n",
       "50%      7.530000   38.950000  104.180000   97.900000   25.000000   \n",
       "75%      7.800000  262.920000  168.160000  101.420000   57.760000   \n",
       "max      8.370000  546.880000  195.810000  108.850000  100.000000   \n",
       "\n",
       "                  y  \n",
       "count    101.000000  \n",
       "mean   10244.460297  \n",
       "std     1022.766123  \n",
       "min     8062.540000  \n",
       "25%     9469.940000  \n",
       "50%    10187.660000  \n",
       "75%    10866.630000  \n",
       "max    12631.050000  "
      ]
     },
     "execution_count": 6,
     "metadata": {},
     "output_type": "execute_result"
    }
   ],
   "source": [
    "df.describe()"
   ]
  },
  {
   "cell_type": "markdown",
   "id": "bc29d1fa",
   "metadata": {},
   "source": [
    "### let's check the correlation amongst the predictor variables."
   ]
  },
  {
   "cell_type": "code",
   "execution_count": 7,
   "id": "58c04ea1",
   "metadata": {
    "ExecuteTime": {
     "end_time": "2024-08-15T12:14:21.360099Z",
     "start_time": "2024-08-15T12:14:21.356254Z"
    }
   },
   "outputs": [
    {
     "name": "stdout",
     "output_type": "stream",
     "text": [
      "[[ 1.          0.70227559 -0.22369731  0.99997833 -0.00144945]\n",
      " [ 0.70227559  1.         -0.03260292  0.70319638  0.00261306]\n",
      " [-0.22369731 -0.03260292  1.         -0.22480781  0.08132155]\n",
      " [ 0.99997833  0.70319638 -0.22480781  1.         -0.00177718]\n",
      " [-0.00144945  0.00261306  0.08132155 -0.00177718  1.        ]]\n"
     ]
    }
   ],
   "source": [
    "corr = np.corrcoef(xx.T)\n",
    "print(corr)"
   ]
  },
  {
   "cell_type": "markdown",
   "id": "863d5584",
   "metadata": {
    "ExecuteTime": {
     "end_time": "2024-08-15T12:12:55.110730Z",
     "start_time": "2024-08-15T12:12:55.107137Z"
    }
   },
   "source": [
    "### let's check the features are correlating heavily."
   ]
  },
  {
   "cell_type": "code",
   "execution_count": 8,
   "id": "04c841e1",
   "metadata": {
    "ExecuteTime": {
     "end_time": "2024-08-15T12:15:31.618195Z",
     "start_time": "2024-08-15T12:15:31.615042Z"
    }
   },
   "outputs": [
    {
     "name": "stdout",
     "output_type": "stream",
     "text": [
      "[[ True False False  True False]\n",
      " [False  True False False False]\n",
      " [False False  True False False]\n",
      " [ True False False  True False]\n",
      " [False False False False  True]]\n"
     ]
    }
   ],
   "source": [
    "print(corr > 0.9)"
   ]
  },
  {
   "cell_type": "markdown",
   "id": "289bb44c",
   "metadata": {},
   "source": [
    "Looks like feature 1 and feature 4 are heavily correlating.  It may be worth removing one of those features from our system."
   ]
  },
  {
   "cell_type": "markdown",
   "id": "d189fd0f",
   "metadata": {},
   "source": [
    "### let's add the output column to the mix and re-evaluate the correlation coefficient."
   ]
  },
  {
   "cell_type": "code",
   "execution_count": 9,
   "id": "d737e394",
   "metadata": {
    "ExecuteTime": {
     "end_time": "2024-08-15T12:18:02.038162Z",
     "start_time": "2024-08-15T12:18:02.033837Z"
    }
   },
   "outputs": [
    {
     "name": "stdout",
     "output_type": "stream",
     "text": [
      "[[ 1.          0.70227559 -0.22369731  0.99997833 -0.00144945  0.9982136 ]\n",
      " [ 0.70227559  1.         -0.03260292  0.70319638  0.00261306  0.71670271]\n",
      " [-0.22369731 -0.03260292  1.         -0.22480781  0.08132155 -0.22026513]\n",
      " [ 0.99997833  0.70319638 -0.22480781  1.         -0.00177718  0.99826603]\n",
      " [-0.00144945  0.00261306  0.08132155 -0.00177718  1.          0.04660974]\n",
      " [ 0.9982136   0.71670271 -0.22026513  0.99826603  0.04660974  1.        ]]\n"
     ]
    }
   ],
   "source": [
    "all_data = np.concatenate((xx, yy), axis=1)\n",
    "corr_all = np.corrcoef(all_data.T)\n",
    "print(corr_all)"
   ]
  },
  {
   "cell_type": "code",
   "execution_count": 10,
   "id": "17f822ca",
   "metadata": {
    "ExecuteTime": {
     "end_time": "2024-08-15T12:22:26.399750Z",
     "start_time": "2024-08-15T12:22:26.396327Z"
    }
   },
   "outputs": [
    {
     "name": "stdout",
     "output_type": "stream",
     "text": [
      "[[ True  True False  True False  True]\n",
      " [ True  True False  True False  True]\n",
      " [False False  True False False False]\n",
      " [ True  True False  True False  True]\n",
      " [False False False False  True False]\n",
      " [ True  True False  True False  True]]\n"
     ]
    }
   ],
   "source": [
    "print(corr_all > 0.7)"
   ]
  },
  {
   "cell_type": "markdown",
   "id": "a6cd8c46",
   "metadata": {},
   "source": [
    "Looks like features 1, 2 and 4 are strongly correlating with the output individually.  We see that the features 3 and 5 are not correlating well.  But, that doesn't mean that they are useless.  Remember, correlation is a linear relationship estimation method.  When the relationship is not-linear, correlation coefficient will not be conclusive.  So, our resolve here is; either the features are not relevant or there is a non-linear relationship amongst the features and the output."
   ]
  },
  {
   "cell_type": "markdown",
   "id": "8bf7cd6a",
   "metadata": {},
   "source": [
    "### let's try to visualize the relationships through a pair-plot."
   ]
  },
  {
   "cell_type": "code",
   "execution_count": 57,
   "id": "0eba9b91",
   "metadata": {
    "ExecuteTime": {
     "end_time": "2024-08-15T12:24:21.027591Z",
     "start_time": "2024-08-15T12:24:17.941851Z"
    }
   },
   "outputs": [],
   "source": [
    "#import seaborn as sb\n",
    "#sb.pairplot(df)"
   ]
  },
  {
   "cell_type": "markdown",
   "id": "e0994e6a",
   "metadata": {},
   "source": [
    "### Brilliant, more patterns have evolved.  And in fact, the mathematical model is almost visible from the plot!"
   ]
  },
  {
   "cell_type": "markdown",
   "id": "79995483",
   "metadata": {},
   "source": [
    "__let's try using principal component analysis to extract useful features__"
   ]
  },
  {
   "cell_type": "code",
   "execution_count": 12,
   "id": "80a68f4a",
   "metadata": {},
   "outputs": [],
   "source": [
    "from sklearn.decomposition import PCA"
   ]
  },
  {
   "cell_type": "markdown",
   "id": "160d8a99",
   "metadata": {},
   "source": [
    "__let's extract the principal components.  also review the amount of variance those two components capture in total.  more the components, more the information from the data is captured.__"
   ]
  },
  {
   "cell_type": "code",
   "execution_count": 239,
   "id": "1f368e1a",
   "metadata": {},
   "outputs": [
    {
     "name": "stdout",
     "output_type": "stream",
     "text": [
      "Vaiances captured by the components : [0.95483093]\n",
      "Total variance information captured : 95.0 %\n"
     ]
    }
   ],
   "source": [
    "pca = PCA(n_components=1)\n",
    "pca.fit(X=xx)\n",
    "print(\"Vaiances captured by the components :\", pca.explained_variance_ratio_)\n",
    "print(\"Total variance information captured :\", 100*round(np.sum(pca.explained_variance_ratio_),2), \"%\")"
   ]
  },
  {
   "cell_type": "markdown",
   "id": "0f30ff85",
   "metadata": {},
   "source": [
    "__let's review the weights of the linear combination of the input features that construct the principal components__"
   ]
  },
  {
   "cell_type": "code",
   "execution_count": 240,
   "id": "a31ccc0c",
   "metadata": {},
   "outputs": [
    {
     "name": "stdout",
     "output_type": "stream",
     "text": [
      "Shape of the transformation matrix : (1, 5)\n",
      "Transformation matrix :  [[ 9.11911751e-04  9.99908245e-01 -6.45445502e-03  1.18718391e-02\n",
      "   2.64998841e-04]]\n",
      "Variances : [85776.82710988]\n"
     ]
    }
   ],
   "source": [
    "print(\"Shape of the transformation matrix :\", pca.components_.shape)\n",
    "print(\"Transformation matrix : \", pca.components_)\n",
    "print(\"Variances :\", pca.explained_variance_)"
   ]
  },
  {
   "cell_type": "markdown",
   "id": "82675af5",
   "metadata": {},
   "source": [
    "__let's project the 5-d data into the PC space to visualize any obvious patterns__"
   ]
  },
  {
   "cell_type": "code",
   "execution_count": 241,
   "id": "6c4f847a",
   "metadata": {},
   "outputs": [
    {
     "name": "stdout",
     "output_type": "stream",
     "text": [
      "Shape of the transformed input space : (101, 1)\n"
     ]
    },
    {
     "data": {
      "text/plain": [
       "<matplotlib.legend.Legend at 0x7f3553d55d00>"
      ]
     },
     "execution_count": 241,
     "metadata": {},
     "output_type": "execute_result"
    },
    {
     "data": {
      "image/png": "[encoded data removed]",
      "text/plain": [
       "<Figure size 640x480 with 1 Axes>"
      ]
     },
     "metadata": {},
     "output_type": "display_data"
    }
   ],
   "source": [
    "xx_transformed = pca.transform(xx)\n",
    "print(\"Shape of the transformed input space :\", xx_transformed.shape)\n",
    "plt.plot(xx_transformed, '.')\n",
    "plt.legend([str(_) for _ in range(xx_transformed.shape[1])])"
   ]
  },
  {
   "cell_type": "markdown",
   "id": "72ed33db",
   "metadata": {},
   "source": [
    "__fit a linear regression on the pricipal component transformed space to check if it helps reducing the loss further__"
   ]
  },
  {
   "cell_type": "code",
   "execution_count": 242,
   "id": "b91e5814",
   "metadata": {},
   "outputs": [
    {
     "name": "stdout",
     "output_type": "stream",
     "text": [
      "Beta : [[2.50402032]]  Bias : [10244.46029703]\n",
      "Loss : 50821973.542042345\n"
     ]
    }
   ],
   "source": [
    "model2 = linear_model.LinearRegression()\n",
    "model2.fit(xx_transformed, yy)\n",
    "yhat2 = model2.predict(xx_transformed)\n",
    "loss2 = SSE(yy, yhat2)\n",
    "print(\"Beta :\", model2.coef_, \" Bias :\", model2.intercept_)\n",
    "print(\"Loss :\",loss2)"
   ]
  },
  {
   "cell_type": "markdown",
   "id": "5b969e2b",
   "metadata": {},
   "source": [
    "__the loss stands higher than the vanilla model with lesser number of components, unfortunately!!  Nonetheless, PCA gives us reduction by 1 feature count without much of a loss in performance__"
   ]
  },
  {
   "cell_type": "code",
   "execution_count": 243,
   "id": "82ecb1c0",
   "metadata": {},
   "outputs": [
    {
     "data": {
      "image/png": "[encoded data removed]",
      "text/plain": [
       "<Figure size 640x480 with 1 Axes>"
      ]
     },
     "metadata": {},
     "output_type": "display_data"
    },
    {
     "name": "stdout",
     "output_type": "stream",
     "text": [
      "Gap : 50750095.70070227\n"
     ]
    }
   ],
   "source": [
    "plt.plot(yy, 'r.')\n",
    "plt.plot(yhat2, 'g.')\n",
    "plt.plot(yhat, 'k.')\n",
    "plt.show()\n",
    "print(\"Gap :\", SSE(yhat, yhat2))"
   ]
  },
  {
   "cell_type": "markdown",
   "id": "d20c7deb",
   "metadata": {},
   "source": [
    "__Now, we are motivated to check out the non-linear PCA, called Kernel PCA__"
   ]
  },
  {
   "cell_type": "code",
   "execution_count": 275,
   "id": "31aeda40",
   "metadata": {},
   "outputs": [
    {
     "data": {
      "text/html": [
       "<style>#sk-container-id-35 {color: black;background-color: white;}#sk-container-id-35 pre{padding: 0;}#sk-container-id-35 div.sk-toggleable {background-color: white;}#sk-container-id-35 label.sk-toggleable__label {cursor: pointer;display: block;width: 100%;margin-bottom: 0;padding: 0.3em;box-sizing: border-box;text-align: center;}#sk-container-id-35 label.sk-toggleable__label-arrow:before {content: \"▸\";float: left;margin-right: 0.25em;color: #696969;}#sk-container-id-35 label.sk-toggleable__label-arrow:hover:before {color: black;}#sk-container-id-35 div.sk-estimator:hover label.sk-toggleable__label-arrow:before {color: black;}#sk-container-id-35 div.sk-toggleable__content {max-height: 0;max-width: 0;overflow: hidden;text-align: left;background-color: #f0f8ff;}#sk-container-id-35 div.sk-toggleable__content pre {margin: 0.2em;color: black;border-radius: 0.25em;background-color: #f0f8ff;}#sk-container-id-35 input.sk-toggleable__control:checked~div.sk-toggleable__content {max-height: 200px;max-width: 100%;overflow: auto;}#sk-container-id-35 input.sk-toggleable__control:checked~label.sk-toggleable__label-arrow:before {content: \"▾\";}#sk-container-id-35 div.sk-estimator input.sk-toggleable__control:checked~label.sk-toggleable__label {background-color: #d4ebff;}#sk-container-id-35 div.sk-label input.sk-toggleable__control:checked~label.sk-toggleable__label {background-color: #d4ebff;}#sk-container-id-35 input.sk-hidden--visually {border: 0;clip: rect(1px 1px 1px 1px);clip: rect(1px, 1px, 1px, 1px);height: 1px;margin: -1px;overflow: hidden;padding: 0;position: absolute;width: 1px;}#sk-container-id-35 div.sk-estimator {font-family: monospace;background-color: #f0f8ff;border: 1px dotted black;border-radius: 0.25em;box-sizing: border-box;margin-bottom: 0.5em;}#sk-container-id-35 div.sk-estimator:hover {background-color: #d4ebff;}#sk-container-id-35 div.sk-parallel-item::after {content: \"\";width: 100%;border-bottom: 1px solid gray;flex-grow: 1;}#sk-container-id-35 div.sk-label:hover label.sk-toggleable__label {background-color: #d4ebff;}#sk-container-id-35 div.sk-serial::before {content: \"\";position: absolute;border-left: 1px solid gray;box-sizing: border-box;top: 0;bottom: 0;left: 50%;z-index: 0;}#sk-container-id-35 div.sk-serial {display: flex;flex-direction: column;align-items: center;background-color: white;padding-right: 0.2em;padding-left: 0.2em;position: relative;}#sk-container-id-35 div.sk-item {position: relative;z-index: 1;}#sk-container-id-35 div.sk-parallel {display: flex;align-items: stretch;justify-content: center;background-color: white;position: relative;}#sk-container-id-35 div.sk-item::before, #sk-container-id-35 div.sk-parallel-item::before {content: \"\";position: absolute;border-left: 1px solid gray;box-sizing: border-box;top: 0;bottom: 0;left: 50%;z-index: -1;}#sk-container-id-35 div.sk-parallel-item {display: flex;flex-direction: column;z-index: 1;position: relative;background-color: white;}#sk-container-id-35 div.sk-parallel-item:first-child::after {align-self: flex-end;width: 50%;}#sk-container-id-35 div.sk-parallel-item:last-child::after {align-self: flex-start;width: 50%;}#sk-container-id-35 div.sk-parallel-item:only-child::after {width: 0;}#sk-container-id-35 div.sk-dashed-wrapped {border: 1px dashed gray;margin: 0 0.4em 0.5em 0.4em;box-sizing: border-box;padding-bottom: 0.4em;background-color: white;}#sk-container-id-35 div.sk-label label {font-family: monospace;font-weight: bold;display: inline-block;line-height: 1.2em;}#sk-container-id-35 div.sk-label-container {text-align: center;}#sk-container-id-35 div.sk-container {/* jupyter's `normalize.less` sets `[hidden] { display: none; }` but bootstrap.min.css set `[hidden] { display: none !important; }` so we also need the `!important` here to be able to override the default hidden behavior on the sphinx rendered scikit-learn.org. See: https://github.com/scikit-learn/scikit-learn/issues/21755 */display: inline-block !important;position: relative;}#sk-container-id-35 div.sk-text-repr-fallback {display: none;}</style><div id=\"sk-container-id-35\" class=\"sk-top-container\"><div class=\"sk-text-repr-fallback\"><pre>KernelPCA(degree=2, gamma=1e-06, n_components=1)</pre><b>In a Jupyter environment, please rerun this cell to show the HTML representation or trust the notebook. <br />On GitHub, the HTML representation is unable to render, please try loading this page with nbviewer.org.</b></div><div class=\"sk-container\" hidden><div class=\"sk-item\"><div class=\"sk-estimator sk-toggleable\"><input class=\"sk-toggleable__control sk-hidden--visually\" id=\"sk-estimator-id-35\" type=\"checkbox\" checked><label for=\"sk-estimator-id-35\" class=\"sk-toggleable__label sk-toggleable__label-arrow\">KernelPCA</label><div class=\"sk-toggleable__content\"><pre>KernelPCA(degree=2, gamma=1e-06, n_components=1)</pre></div></div></div></div></div>"
      ],
      "text/plain": [
       "KernelPCA(degree=2, gamma=1e-06, n_components=1)"
      ]
     },
     "execution_count": 275,
     "metadata": {},
     "output_type": "execute_result"
    }
   ],
   "source": [
    "from sklearn.decomposition import KernelPCA\n",
    "kpca = KernelPCA(n_components=1, kernel='linear', degree=2, gamma=0.000001)\n",
    "kpca.fit(X=xx)\n",
    "#print(\"Vaiances captured by the components :\", pca.explained_variance_ratio_)\n",
    "#print(\"Total variance information captured :\", 100*round(np.sum(pca.explained_variance_ratio_),2), \"%\")"
   ]
  },
  {
   "cell_type": "markdown",
   "id": "a24c1bf4",
   "metadata": {},
   "source": [
    "__let's project the 5-d data into the PC space to visualize any obvious patterns__"
   ]
  },
  {
   "cell_type": "code",
   "execution_count": 276,
   "id": "949f688d",
   "metadata": {},
   "outputs": [
    {
     "name": "stdout",
     "output_type": "stream",
     "text": [
      "Shape of the transformed input space : (101, 1)\n"
     ]
    },
    {
     "data": {
      "text/plain": [
       "<matplotlib.legend.Legend at 0x7f355890d970>"
      ]
     },
     "execution_count": 276,
     "metadata": {},
     "output_type": "execute_result"
    },
    {
     "data": {
      "image/png": "[encoded data removed]",
      "text/plain": [
       "<Figure size 640x480 with 1 Axes>"
      ]
     },
     "metadata": {},
     "output_type": "display_data"
    }
   ],
   "source": [
    "xx_transformed_k = kpca.transform(xx)\n",
    "print(\"Shape of the transformed input space :\", xx_transformed_k.shape)\n",
    "plt.plot(xx_transformed_k, '.')\n",
    "plt.legend([str(_) for _ in range(xx_transformed_k.shape[1])])"
   ]
  },
  {
   "cell_type": "code",
   "execution_count": null,
   "id": "e3bd80b0",
   "metadata": {},
   "outputs": [],
   "source": []
  },
  {
   "cell_type": "markdown",
   "id": "f690aa42",
   "metadata": {},
   "source": [
    "__fit a linear regression on the pricipal component transformed space to check if it helps reducing the loss further__"
   ]
  },
  {
   "cell_type": "code",
   "execution_count": 277,
   "id": "3dc2eb4f",
   "metadata": {},
   "outputs": [
    {
     "name": "stdout",
     "output_type": "stream",
     "text": [
      "Beta : [[2.50402032]]  Bias : [10244.46029703]\n",
      "Loss : 50821973.542042345\n"
     ]
    }
   ],
   "source": [
    "model3 = linear_model.LinearRegression()\n",
    "model3.fit(xx_transformed_k, yy)\n",
    "yhat3 = model3.predict(xx_transformed_k)\n",
    "loss3 = SSE(yy, yhat3)\n",
    "print(\"Beta :\", model3.coef_, \" Bias :\", model3.intercept_)\n",
    "print(\"Loss :\",loss2)"
   ]
  },
  {
   "cell_type": "markdown",
   "id": "d7209242",
   "metadata": {},
   "source": [
    "__the loss stands higher than the vanilla model, unfortunately!!__"
   ]
  },
  {
   "cell_type": "code",
   "execution_count": 278,
   "id": "3beb4cb0",
   "metadata": {},
   "outputs": [
    {
     "data": {
      "text/plain": [
       "<matplotlib.legend.Legend at 0x7f3553cefeb0>"
      ]
     },
     "execution_count": 278,
     "metadata": {},
     "output_type": "execute_result"
    },
    {
     "data": {
      "image/png": "[encoded data removed]",
      "text/plain": [
       "<Figure size 640x480 with 1 Axes>"
      ]
     },
     "metadata": {},
     "output_type": "display_data"
    }
   ],
   "source": [
    "plt.plot(xx[:,1], yy, 'r.')\n",
    "plt.plot(xx[:,1],yhat, 'k.')\n",
    "plt.plot(xx[:,1],yhat2, 'g.')\n",
    "plt.plot(xx[:,1],yhat3, 'b.')\n",
    "\n",
    "plt.legend(['GT', 'OLS', 'PCA', 'KPCA'], loc='upper left')"
   ]
  }
 ],
 "metadata": {
  "kernelspec": {
   "display_name": "da5401",
   "language": "python",
   "name": "da5401"
  },
  "language_info": {
   "codemirror_mode": {
    "name": "ipython",
    "version": 3
   },
   "file_extension": ".py",
   "mimetype": "text/x-python",
   "name": "python",
   "nbconvert_exporter": "python",
   "pygments_lexer": "ipython3",
   "version": "3.8.10"
  }
 },
 "nbformat": 4,
 "nbformat_minor": 5
}
